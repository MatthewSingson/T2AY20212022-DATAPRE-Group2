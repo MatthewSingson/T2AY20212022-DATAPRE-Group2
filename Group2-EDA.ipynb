{
 "cells": [
  {
   "cell_type": "markdown",
   "id": "d9e92cc7",
   "metadata": {
    "cell_id": "09c56d41ebdb4619b44e267a8a90d369",
    "deepnote_cell_type": "text-cell-h2",
    "formattedRanges": [],
    "is_collapsed": false,
    "tags": []
   },
   "source": [
    "## DATAPRE Final Output"
   ]
  },
  {
   "cell_type": "markdown",
   "id": "1b1e44c3",
   "metadata": {
    "cell_id": "2d6381cc3e5c4cc9a9a2c6fbc55e926e",
    "deepnote_cell_height": 186.26666259765625,
    "deepnote_cell_type": "markdown",
    "tags": []
   },
   "source": [
    "S14<br> Members: <br> Dy, Justin <br> Dayon, Elijah <br>Recomono, Francis <br> Singson, Raymond <br> Velarde, Rollo"
   ]
  },
  {
   "cell_type": "markdown",
   "id": "461faa83",
   "metadata": {
    "cell_id": "192b251b8378445286fa0631d9190f3f",
    "deepnote_cell_height": 61.46665954589844,
    "deepnote_cell_type": "markdown",
    "tags": []
   },
   "source": [
    "### Downloading the Data of the top 20 stocks in the United States"
   ]
  },
  {
   "cell_type": "markdown",
   "id": "293380bf",
   "metadata": {
    "cell_id": "466213f0ba654cc7bc39a80eeea55739",
    "deepnote_cell_height": 74.26666259765625,
    "deepnote_cell_type": "markdown",
    "tags": []
   },
   "source": [
    "In this part of the notebook, the group will be downloading the data for each stock from the **yfinance** API from 01/01/2017 to 06/23/2022."
   ]
  },
  {
   "cell_type": "code",
   "execution_count": 2,
   "id": "908d21de",
   "metadata": {
    "scrolled": true
   },
   "outputs": [
    {
     "name": "stdout",
     "output_type": "stream",
     "text": [
      "[*********************100%***********************]  1 of 1 completed\n",
      "[*********************100%***********************]  1 of 1 completed\n",
      "[*********************100%***********************]  1 of 1 completed\n",
      "[*********************100%***********************]  1 of 1 completed\n",
      "[*********************100%***********************]  1 of 1 completed\n",
      "[*********************100%***********************]  1 of 1 completed\n",
      "[*********************100%***********************]  1 of 1 completed\n",
      "[*********************100%***********************]  1 of 1 completed\n",
      "[*********************100%***********************]  1 of 1 completed\n",
      "[*********************100%***********************]  1 of 1 completed\n",
      "[*********************100%***********************]  1 of 1 completed\n",
      "[*********************100%***********************]  1 of 1 completed\n",
      "[*********************100%***********************]  1 of 1 completed\n",
      "[*********************100%***********************]  1 of 1 completed\n",
      "[*********************100%***********************]  1 of 1 completed\n",
      "[*********************100%***********************]  1 of 1 completed\n",
      "[*********************100%***********************]  1 of 1 completed\n",
      "[*********************100%***********************]  1 of 1 completed\n",
      "[*********************100%***********************]  1 of 1 completed\n",
      "[*********************100%***********************]  1 of 1 completed\n"
     ]
    }
   ],
   "source": [
    "# Dowloading the data of top 20 stocks\n",
    "import yfinance as yf\n",
    "import pandas as pd\n",
    "\n",
    "# Apple Inc.\n",
    "aapl = yf.download(\"AAPL\", start=\"2017-01-01\", end=\"2022-06-23\")\n",
    "\n",
    "# Microsoft Corp.\n",
    "msft = yf.download(\"MSFT\", start=\"2017-01-01\", end=\"2022-06-23\")\n",
    "\n",
    "# Alphabet Inc. (Google) Class C\n",
    "goog = yf.download(\"GOOG\", start=\"2017-01-01\", end=\"2022-06-23\")\n",
    "\n",
    "# Amazon.com Inc.\n",
    "amzn = yf.download(\"AMZN\", start=\"2017-01-01\", end=\"2022-06-23\")\n",
    "\n",
    "# Tesla Inc.\n",
    "tsla = yf.download(\"TSLA\", start=\"2017-01-01\", end=\"2022-06-23\")\n",
    "\n",
    "# Berkshire Hathaway Inc.\n",
    "brka = yf.download(\"BRK-A\", start=\"2017-01-01\", end=\"2022-06-23\")\n",
    "\n",
    "# Johnson & Johnson\n",
    "jnj = yf.download(\"JNJ\", start=\"2017-01-01\", end=\"2022-06-23\")\n",
    "\n",
    "# United Health Group Incorporated\n",
    "unh = yf.download(\"UNH\", start=\"2017-01-01\", end=\"2022-06-23\")\n",
    "\n",
    "# Meta Platforms Inc.\n",
    "meta = yf.download(\"META\", start=\"2017-01-01\", end=\"2022-06-23\")\n",
    "\n",
    "# NVIDIA Corporation\n",
    "nvda = yf.download(\"NVDA\", start=\"2017-01-01\", end=\"2022-06-23\")\n",
    "\n",
    "# Visa Inc.\n",
    "v = yf.download(\"V\", start=\"2017-01-01\", end=\"2022-06-23\")\n",
    "\n",
    "# Exxon Mobile Corporation\n",
    "xom = yf.download(\"XOM\", start=\"2017-01-01\", end=\"2022-06-23\")\n",
    "\n",
    "# Procter & Gamble Company  \n",
    "pg = yf.download(\"PG\", start=\"2017-01-01\", end=\"2022-06-23\")\n",
    "\n",
    "# JP Morgan & Chase Co.\n",
    "jpm = yf.download(\"JPM\", start=\"2017-01-01\", end=\"2022-06-23\")\n",
    "\n",
    "# Walmart Inc.\n",
    "wmt = yf.download(\"WMT\", start=\"2017-01-01\", end=\"2022-06-23\")\n",
    "\n",
    "# Mastercard Inc.\n",
    "ma = yf.download(\"MA\", start=\"2017-01-01\", end=\"2022-06-23\")\n",
    "\n",
    "# Eli Lilly and Company\n",
    "lly = yf.download(\"LLY\", start=\"2017-01-01\", end=\"2022-06-23\")\n",
    "\n",
    "# Home Depot Inc.\n",
    "hd = yf.download(\"HD\", start=\"2017-01-01\", end=\"2022-06-23\")\n",
    "\n",
    "#Pfizer Inc.\n",
    "pfe = yf.download(\"PFE\", start=\"2017-01-01\", end=\"2022-06-23\")\n",
    "\n",
    "#Chevron Inc.\n",
    "cvx = yf.download(\"CVX\", start=\"2017-01-01\", end=\"2022-06-23\")"
   ]
  },
  {
   "cell_type": "markdown",
   "id": "c6440073",
   "metadata": {
    "cell_id": "7d7f1fc2b629406e8bf16fb42d18f5c2",
    "deepnote_cell_height": 61.46665954589844,
    "deepnote_cell_type": "markdown",
    "tags": []
   },
   "source": [
    "### Exploratory Data Analysis"
   ]
  },
  {
   "cell_type": "markdown",
   "id": "fb11cb82",
   "metadata": {},
   "source": [
    "Let's look at a sample of our data"
   ]
  },
  {
   "cell_type": "code",
   "execution_count": 3,
   "id": "706483c5",
   "metadata": {},
   "outputs": [
    {
     "data": {
      "text/html": [
       "<div>\n",
       "<style scoped>\n",
       "    .dataframe tbody tr th:only-of-type {\n",
       "        vertical-align: middle;\n",
       "    }\n",
       "\n",
       "    .dataframe tbody tr th {\n",
       "        vertical-align: top;\n",
       "    }\n",
       "\n",
       "    .dataframe thead th {\n",
       "        text-align: right;\n",
       "    }\n",
       "</style>\n",
       "<table border=\"1\" class=\"dataframe\">\n",
       "  <thead>\n",
       "    <tr style=\"text-align: right;\">\n",
       "      <th></th>\n",
       "      <th>Open</th>\n",
       "      <th>High</th>\n",
       "      <th>Low</th>\n",
       "      <th>Close</th>\n",
       "      <th>Adj Close</th>\n",
       "      <th>Volume</th>\n",
       "    </tr>\n",
       "    <tr>\n",
       "      <th>Date</th>\n",
       "      <th></th>\n",
       "      <th></th>\n",
       "      <th></th>\n",
       "      <th></th>\n",
       "      <th></th>\n",
       "      <th></th>\n",
       "    </tr>\n",
       "  </thead>\n",
       "  <tbody>\n",
       "    <tr>\n",
       "      <th>2017-01-03</th>\n",
       "      <td>28.950001</td>\n",
       "      <td>29.082500</td>\n",
       "      <td>28.690001</td>\n",
       "      <td>29.037500</td>\n",
       "      <td>27.257643</td>\n",
       "      <td>115127600</td>\n",
       "    </tr>\n",
       "    <tr>\n",
       "      <th>2017-01-04</th>\n",
       "      <td>28.962500</td>\n",
       "      <td>29.127501</td>\n",
       "      <td>28.937500</td>\n",
       "      <td>29.004999</td>\n",
       "      <td>27.227135</td>\n",
       "      <td>84472400</td>\n",
       "    </tr>\n",
       "    <tr>\n",
       "      <th>2017-01-05</th>\n",
       "      <td>28.980000</td>\n",
       "      <td>29.215000</td>\n",
       "      <td>28.952499</td>\n",
       "      <td>29.152500</td>\n",
       "      <td>27.365595</td>\n",
       "      <td>88774400</td>\n",
       "    </tr>\n",
       "    <tr>\n",
       "      <th>2017-01-06</th>\n",
       "      <td>29.195000</td>\n",
       "      <td>29.540001</td>\n",
       "      <td>29.117500</td>\n",
       "      <td>29.477501</td>\n",
       "      <td>27.670675</td>\n",
       "      <td>127007600</td>\n",
       "    </tr>\n",
       "    <tr>\n",
       "      <th>2017-01-09</th>\n",
       "      <td>29.487499</td>\n",
       "      <td>29.857500</td>\n",
       "      <td>29.485001</td>\n",
       "      <td>29.747499</td>\n",
       "      <td>27.924126</td>\n",
       "      <td>134247600</td>\n",
       "    </tr>\n",
       "  </tbody>\n",
       "</table>\n",
       "</div>"
      ],
      "text/plain": [
       "                 Open       High        Low      Close  Adj Close     Volume\n",
       "Date                                                                        \n",
       "2017-01-03  28.950001  29.082500  28.690001  29.037500  27.257643  115127600\n",
       "2017-01-04  28.962500  29.127501  28.937500  29.004999  27.227135   84472400\n",
       "2017-01-05  28.980000  29.215000  28.952499  29.152500  27.365595   88774400\n",
       "2017-01-06  29.195000  29.540001  29.117500  29.477501  27.670675  127007600\n",
       "2017-01-09  29.487499  29.857500  29.485001  29.747499  27.924126  134247600"
      ]
     },
     "execution_count": 3,
     "metadata": {},
     "output_type": "execute_result"
    }
   ],
   "source": [
    "aapl.head()"
   ]
  },
  {
   "cell_type": "markdown",
   "id": "e9ab7435",
   "metadata": {},
   "source": [
    "Let's look at the data and see if there's any null values"
   ]
  },
  {
   "cell_type": "code",
   "execution_count": 4,
   "id": "bc38391b",
   "metadata": {
    "scrolled": true
   },
   "outputs": [
    {
     "data": {
      "text/plain": [
       "Open         0\n",
       "High         0\n",
       "Low          0\n",
       "Close        0\n",
       "Adj Close    0\n",
       "Volume       0\n",
       "dtype: int64"
      ]
     },
     "execution_count": 4,
     "metadata": {},
     "output_type": "execute_result"
    }
   ],
   "source": [
    "aapl.isnull().sum()"
   ]
  },
  {
   "cell_type": "markdown",
   "id": "1b391245",
   "metadata": {},
   "source": [
    "We can see there's no null values. next we check the datatypes."
   ]
  },
  {
   "cell_type": "code",
   "execution_count": 5,
   "id": "2dd933c0",
   "metadata": {
    "cell_id": "0e7dd93de01b469d9c0b10945c8f87ce",
    "deepnote_cell_height": 350.33331298828125,
    "deepnote_cell_type": "code",
    "deepnote_output_heights": [
     559
    ],
    "deepnote_to_be_reexecuted": false,
    "execution_millis": 223,
    "execution_start": 1656591161382,
    "scrolled": true,
    "source_hash": "f6c00f4",
    "tags": []
   },
   "outputs": [
    {
     "name": "stdout",
     "output_type": "stream",
     "text": [
      "<class 'pandas.core.frame.DataFrame'>\n",
      "DatetimeIndex: 1377 entries, 2017-01-03 to 2022-06-22\n",
      "Data columns (total 6 columns):\n",
      " #   Column     Non-Null Count  Dtype  \n",
      "---  ------     --------------  -----  \n",
      " 0   Open       1377 non-null   float64\n",
      " 1   High       1377 non-null   float64\n",
      " 2   Low        1377 non-null   float64\n",
      " 3   Close      1377 non-null   float64\n",
      " 4   Adj Close  1377 non-null   float64\n",
      " 5   Volume     1377 non-null   int64  \n",
      "dtypes: float64(5), int64(1)\n",
      "memory usage: 75.3 KB\n"
     ]
    }
   ],
   "source": [
    "aapl.info()"
   ]
  },
  {
   "cell_type": "markdown",
   "id": "7e994e18",
   "metadata": {},
   "source": [
    "From what we can see there is no unexpected datatypes. The price values are all float and the volume in an integer"
   ]
  },
  {
   "cell_type": "markdown",
   "id": "9335b6ef",
   "metadata": {
    "cell_id": "63efd6d589704b2d85c687043448a665",
    "deepnote_cell_height": 53.46665954589844,
    "deepnote_cell_type": "markdown",
    "tags": []
   },
   "source": [
    "#### Data Dictionary"
   ]
  },
  {
   "cell_type": "code",
   "execution_count": null,
   "id": "1237d1ce",
   "metadata": {
    "cell_id": "a021824849d245fd9425dca4a5163ed3",
    "deepnote_cell_height": 134.46665954589844,
    "deepnote_cell_type": "code",
    "deepnote_to_be_reexecuted": false,
    "execution_millis": 43,
    "execution_start": 1656591161383,
    "source_hash": "cac39309",
    "tags": []
   },
   "outputs": [],
   "source": [
    "# Creating list of data for the data dictionary\n",
    "d = {'Variables': ['Date', 'Open', 'High', 'Low', 'Close', 'Adj Close', 'Volume'], 'Definition' : ['Day', 'Opening Stock Price in PHP', \n",
    "'Highest Stock Price on the Day Selected', 'Lowest Stock Price on the Day Selected', 'Closing Stock Price', 'Closing Stock Price Adjusted', 'Total Stocks Sold'], \n",
    "'Key' : ['Date and Opening Time', 'Stock Price', 'Stock Price', 'Stock Price', 'Stock Price', 'Stock Price', 'Quantity']}"
   ]
  },
  {
   "cell_type": "code",
   "execution_count": null,
   "id": "a76b6fe6",
   "metadata": {
    "cell_id": "e5bbcb6ce09442a4a74006c26fd7936c",
    "deepnote_cell_height": 493.933349609375,
    "deepnote_cell_type": "code",
    "deepnote_to_be_reexecuted": false,
    "execution_millis": 179,
    "execution_start": 1656591161427,
    "source_hash": "da0c31fa",
    "tags": []
   },
   "outputs": [
    {
     "data": {
      "application/vnd.deepnote.dataframe.v3+json": {
       "column_count": 3,
       "columns": [
        {
         "dtype": "object",
         "name": "Variables",
         "stats": {
          "categories": [
           {
            "count": 1,
            "name": "Date"
           },
           {
            "count": 1,
            "name": "Open"
           },
           {
            "count": 5,
            "name": "5 others"
           }
          ],
          "nan_count": 0,
          "unique_count": 7
         }
        },
        {
         "dtype": "object",
         "name": "Definition",
         "stats": {
          "categories": [
           {
            "count": 1,
            "name": "Day"
           },
           {
            "count": 1,
            "name": "Opening Stock Price in PHP"
           },
           {
            "count": 5,
            "name": "5 others"
           }
          ],
          "nan_count": 0,
          "unique_count": 7
         }
        },
        {
         "dtype": "object",
         "name": "Key",
         "stats": {
          "categories": [
           {
            "count": 5,
            "name": "Stock Price"
           },
           {
            "count": 1,
            "name": "Date and Opening Time"
           },
           {
            "count": 1,
            "name": "Quantity"
           }
          ],
          "nan_count": 0,
          "unique_count": 3
         }
        },
        {
         "dtype": "int64",
         "name": "_deepnote_index_column"
        }
       ],
       "row_count": 7,
       "rows": [
        {
         "Definition": "Day",
         "Key": "Date and Opening Time",
         "Variables": "Date",
         "_deepnote_index_column": 0
        },
        {
         "Definition": "Opening Stock Price in PHP",
         "Key": "Stock Price",
         "Variables": "Open",
         "_deepnote_index_column": 1
        },
        {
         "Definition": "Highest Stock Price on the Day Selected",
         "Key": "Stock Price",
         "Variables": "High",
         "_deepnote_index_column": 2
        },
        {
         "Definition": "Lowest Stock Price on the Day Selected",
         "Key": "Stock Price",
         "Variables": "Low",
         "_deepnote_index_column": 3
        },
        {
         "Definition": "Closing Stock Price",
         "Key": "Stock Price",
         "Variables": "Close",
         "_deepnote_index_column": 4
        },
        {
         "Definition": "Closing Stock Price Adjusted",
         "Key": "Stock Price",
         "Variables": "Adj Close",
         "_deepnote_index_column": 5
        },
        {
         "Definition": "Total Stocks Sold",
         "Key": "Quantity",
         "Variables": "Volume",
         "_deepnote_index_column": 6
        }
       ]
      },
      "text/html": [
       "<div>\n",
       "<style scoped>\n",
       "    .dataframe tbody tr th:only-of-type {\n",
       "        vertical-align: middle;\n",
       "    }\n",
       "\n",
       "    .dataframe tbody tr th {\n",
       "        vertical-align: top;\n",
       "    }\n",
       "\n",
       "    .dataframe thead th {\n",
       "        text-align: right;\n",
       "    }\n",
       "</style>\n",
       "<table border=\"1\" class=\"dataframe\">\n",
       "  <thead>\n",
       "    <tr style=\"text-align: right;\">\n",
       "      <th></th>\n",
       "      <th>Variables</th>\n",
       "      <th>Definition</th>\n",
       "      <th>Key</th>\n",
       "    </tr>\n",
       "  </thead>\n",
       "  <tbody>\n",
       "    <tr>\n",
       "      <th>0</th>\n",
       "      <td>Date</td>\n",
       "      <td>Day</td>\n",
       "      <td>Date and Opening Time</td>\n",
       "    </tr>\n",
       "    <tr>\n",
       "      <th>1</th>\n",
       "      <td>Open</td>\n",
       "      <td>Opening Stock Price in PHP</td>\n",
       "      <td>Stock Price</td>\n",
       "    </tr>\n",
       "    <tr>\n",
       "      <th>2</th>\n",
       "      <td>High</td>\n",
       "      <td>Highest Stock Price on the Day Selected</td>\n",
       "      <td>Stock Price</td>\n",
       "    </tr>\n",
       "    <tr>\n",
       "      <th>3</th>\n",
       "      <td>Low</td>\n",
       "      <td>Lowest Stock Price on the Day Selected</td>\n",
       "      <td>Stock Price</td>\n",
       "    </tr>\n",
       "    <tr>\n",
       "      <th>4</th>\n",
       "      <td>Close</td>\n",
       "      <td>Closing Stock Price</td>\n",
       "      <td>Stock Price</td>\n",
       "    </tr>\n",
       "    <tr>\n",
       "      <th>5</th>\n",
       "      <td>Adj Close</td>\n",
       "      <td>Closing Stock Price Adjusted</td>\n",
       "      <td>Stock Price</td>\n",
       "    </tr>\n",
       "    <tr>\n",
       "      <th>6</th>\n",
       "      <td>Volume</td>\n",
       "      <td>Total Stocks Sold</td>\n",
       "      <td>Quantity</td>\n",
       "    </tr>\n",
       "  </tbody>\n",
       "</table>\n",
       "</div>"
      ],
      "text/plain": [
       "   Variables                               Definition                    Key\n",
       "0       Date                                      Day  Date and Opening Time\n",
       "1       Open               Opening Stock Price in PHP            Stock Price\n",
       "2       High  Highest Stock Price on the Day Selected            Stock Price\n",
       "3        Low   Lowest Stock Price on the Day Selected            Stock Price\n",
       "4      Close                      Closing Stock Price            Stock Price\n",
       "5  Adj Close             Closing Stock Price Adjusted            Stock Price\n",
       "6     Volume                        Total Stocks Sold               Quantity"
      ]
     },
     "execution_count": 6,
     "metadata": {},
     "output_type": "execute_result"
    }
   ],
   "source": [
    "data_dict = pd.DataFrame(data = d)\n",
    "data_dict"
   ]
  },
  {
   "cell_type": "markdown",
   "id": "16bd2ecd",
   "metadata": {
    "cell_id": "c71fc058e43d4136ae6c1932b2271ca8",
    "deepnote_cell_height": 51.866668701171875,
    "deepnote_cell_type": "markdown",
    "tags": []
   },
   "source": [
    "Since we are making a correlation matrix, we need to check if the data all have the same length"
   ]
  },
  {
   "cell_type": "code",
   "execution_count": null,
   "id": "8256748b",
   "metadata": {
    "cell_id": "5b4bfb5e0e894626b500548d86ff4088",
    "deepnote_cell_height": 831.86669921875,
    "deepnote_cell_type": "code",
    "deepnote_to_be_reexecuted": false,
    "execution_millis": 167,
    "execution_start": 1656591161440,
    "source_hash": "d271f86a",
    "tags": []
   },
   "outputs": [
    {
     "name": "stdout",
     "output_type": "stream",
     "text": [
      "1377\n",
      "1377\n",
      "1377\n",
      "1377\n",
      "1377\n",
      "1377\n",
      "1377\n",
      "1377\n",
      "1377\n",
      "1377\n",
      "1377\n",
      "1377\n",
      "1377\n",
      "1377\n",
      "1377\n",
      "1377\n",
      "1377\n",
      "1377\n",
      "1377\n",
      "1377\n"
     ]
    }
   ],
   "source": [
    "print(len(aapl))\n",
    "print(len(msft))\n",
    "print(len(goog))\n",
    "print(len(amzn))\n",
    "print(len(tsla))\n",
    "print(len(brka))\n",
    "print(len(jnj))\n",
    "print(len(unh))\n",
    "print(len(meta))\n",
    "print(len(nvda))\n",
    "print(len(v))\n",
    "print(len(xom))\n",
    "print(len(pg))\n",
    "print(len(jpm))\n",
    "print(len(wmt))\n",
    "print(len(ma))\n",
    "print(len(lly))\n",
    "print(len(hd))\n",
    "print(len(pfe))\n",
    "print(len(cvx))"
   ]
  },
  {
   "cell_type": "markdown",
   "id": "e0548b16",
   "metadata": {
    "cell_id": "3b0ce986b6764b79954c735acfa17f90",
    "deepnote_cell_height": 74.26666259765625,
    "deepnote_cell_type": "markdown",
    "tags": []
   },
   "source": [
    "As we can see they all have the same length. Next we will join the data into 1 stocks {} for easy access. We will also extract the 'Close' Column as we are only concerned with the closing price of the stock."
   ]
  },
  {
   "cell_type": "code",
   "execution_count": null,
   "id": "58b087c0",
   "metadata": {
    "cell_id": "504a5cc078cc490f89ecb457df69b9d7",
    "deepnote_cell_height": 80.46665954589844,
    "deepnote_cell_type": "code",
    "deepnote_to_be_reexecuted": false,
    "execution_millis": 1,
    "execution_start": 1656591161502,
    "source_hash": "e16acbe1",
    "tags": []
   },
   "outputs": [],
   "source": [
    "stocks = {}"
   ]
  },
  {
   "cell_type": "code",
   "execution_count": null,
   "id": "b5227257",
   "metadata": {
    "cell_id": "e1fba7afa1d64b4b8218ecd29e867af9",
    "deepnote_cell_height": 1124.4666748046875,
    "deepnote_cell_type": "code",
    "deepnote_to_be_reexecuted": false,
    "execution_millis": 43,
    "execution_start": 1656591161503,
    "source_hash": "7ebaa4fe",
    "tags": []
   },
   "outputs": [],
   "source": [
    "aapl['Ticker'] = 'AAPL'\n",
    "stocks[0] = aapl[['Ticker', 'Close']]\n",
    "\n",
    "msft['Ticker'] = 'MSFT'\n",
    "stocks[1] = msft[['Ticker', 'Close']]\n",
    "\n",
    "goog['Ticker'] = 'GOOG'\n",
    "stocks[2] = goog[['Ticker', 'Close']]\n",
    "\n",
    "amzn['Ticker'] = 'AMZN'\n",
    "stocks[3] = amzn[['Ticker', 'Close']]\n",
    "\n",
    "tsla['Ticker'] = 'TSLA'\n",
    "stocks[4] = tsla[['Ticker', 'Close']]\n",
    "\n",
    "brka['Ticker'] = 'BRKA'\n",
    "stocks[5] = brka[['Ticker', 'Close']]\n",
    "\n",
    "jnj['Ticker'] = 'JNJ'\n",
    "stocks[6] = jnj[['Ticker', 'Close']]\n",
    "\n",
    "unh['Ticker'] = 'UNH'\n",
    "stocks[7] = unh[['Ticker', 'Close']]\n",
    "\n",
    "meta['Ticker'] = 'META'\n",
    "stocks[8] = meta[['Ticker', 'Close']]\n",
    "\n",
    "nvda['Ticker'] = 'NVDA'\n",
    "stocks[9] = nvda[['Ticker', 'Close']]\n",
    "\n",
    "v['Ticker'] = 'V'\n",
    "stocks[10] = v[['Ticker', 'Close']]\n",
    "\n",
    "xom['Ticker'] = 'XOM'\n",
    "stocks[11] = xom[['Ticker', 'Close']]\n",
    "\n",
    "pg['Ticker'] = 'PG'\n",
    "stocks[12] = pg[['Ticker', 'Close']]\n",
    "\n",
    "jpm['Ticker'] = 'JPM'\n",
    "stocks[13] = jpm[['Ticker', 'Close']]\n",
    "\n",
    "wmt['Ticker'] = 'WMT'\n",
    "stocks[14] = wmt[['Ticker', 'Close']]\n",
    "\n",
    "ma['Ticker'] = 'MA'\n",
    "stocks[15] = ma[['Ticker', 'Close']]\n",
    "\n",
    "lly['Ticker'] = 'LLY'\n",
    "stocks[16] = lly[['Ticker', 'Close']]\n",
    "\n",
    "hd['Ticker'] = 'HD'\n",
    "stocks[17] = hd[['Ticker', 'Close']]\n",
    "\n",
    "pfe['Ticker'] = 'PFE'\n",
    "stocks[18] = pfe[['Ticker', 'Close']]\n",
    "\n",
    "cvx['Ticker'] = 'CVX'\n",
    "stocks[19] = cvx[['Ticker', 'Close']]"
   ]
  },
  {
   "cell_type": "markdown",
   "id": "78afa994",
   "metadata": {
    "cell_id": "e2a9a01851bf46d0a3d7be1315c0ba13",
    "deepnote_cell_height": 61.46665954589844,
    "deepnote_cell_type": "markdown",
    "tags": []
   },
   "source": [
    "### Implementing correlation matrix"
   ]
  },
  {
   "cell_type": "code",
   "execution_count": null,
   "id": "5e176a53",
   "metadata": {
    "cell_id": "ab0c2e944cdd4e899afe0faac919fd1c",
    "deepnote_cell_height": 216.86666870117188,
    "deepnote_cell_type": "code",
    "deepnote_output_heights": [
     null,
     21
    ],
    "deepnote_to_be_reexecuted": false,
    "execution_millis": 62,
    "execution_start": 1656591161546,
    "source_hash": "8615a276",
    "tags": []
   },
   "outputs": [
    {
     "name": "stdout",
     "output_type": "stream",
     "text": [
      "AAPL\n"
     ]
    },
    {
     "data": {
      "text/plain": [
       "1377"
      ]
     },
     "execution_count": 10,
     "metadata": {},
     "output_type": "execute_result"
    }
   ],
   "source": [
    "#To get stock name base on index\n",
    "print(stocks[0][\"Ticker\"][0])\n",
    "#To get list of stock price, which is obtained via yf.download method\n",
    "len(stocks[0][\"Close\"])"
   ]
  },
  {
   "cell_type": "code",
   "execution_count": null,
   "id": "b6c820dd",
   "metadata": {
    "cell_id": "ff7b49fc2eee4ce3a47c5bd5ac03e470",
    "deepnote_cell_height": 494.4666748046875,
    "deepnote_cell_type": "code",
    "deepnote_to_be_reexecuted": false,
    "execution_millis": 2526,
    "execution_start": 1656591161547,
    "source_hash": "f95ed15",
    "tags": []
   },
   "outputs": [],
   "source": [
    "import seaborn as sn\n",
    "import matplotlib.pyplot as plt\n",
    "import numpy as np\n",
    "\n",
    "data = [[],[],[],[],[]\n",
    "        ,[],[],[],[],[]\n",
    "        ,[],[],[],[],[]\n",
    "        ,[],[],[],[],[]\n",
    "        ,[],[],[],[],[]]\n",
    "cols = []\n",
    "\n",
    "\n",
    "n = len(stocks)\n",
    "m = len(stocks[0][\"Close\"])\n",
    "\n",
    "\n",
    "for i in range(0,n):\n",
    "    for j in range(0,m):\n",
    "        data[i].append(stocks[i][\"Close\"][j])\n",
    "    \n",
    "    cols.append(stocks[i][\"Ticker\"][0])\n",
    "\n",
    "\n"
   ]
  },
  {
   "cell_type": "code",
   "execution_count": null,
   "id": "304b890b",
   "metadata": {
    "cell_id": "b70c5f057c704fe6b5160b83336d3dc6",
    "deepnote_cell_height": 494.4666748046875,
    "deepnote_cell_type": "code",
    "deepnote_to_be_reexecuted": false,
    "execution_millis": 42,
    "execution_start": 1656591164092,
    "source_hash": "b410ed24",
    "tags": []
   },
   "outputs": [],
   "source": [
    "pre_df = {\n",
    "'AAPL':data[0],\n",
    "'MSFT':data[1],\n",
    "'GOOG':data[2],\n",
    "'AMZN':data[3],\n",
    "'TSLA':data[4],\n",
    "'BRKA':data[5],\n",
    "'JNJ':data[6],\n",
    "'UNH':data[7],\n",
    "'META':data[8],\n",
    "'NVDA':data[9],\n",
    "'V':data[10],\n",
    "'XOM':data[11],\n",
    "'PG':data[12],\n",
    "'JPM':data[13],\n",
    "'WMT':data[14],\n",
    "'MA':data[15],\n",
    "'LLY':data[16],\n",
    "'HD':data[17],\n",
    "'PFE':data[18],\n",
    "'CVX':data[19]\n",
    "}"
   ]
  },
  {
   "cell_type": "code",
   "execution_count": null,
   "id": "fe988305",
   "metadata": {
    "cell_id": "33f80fbe801a481faab384b58c66565c",
    "deepnote_cell_height": 80.46665954589844,
    "deepnote_cell_type": "code",
    "deepnote_to_be_reexecuted": false,
    "execution_millis": 44,
    "execution_start": 1656591164134,
    "source_hash": "80af3014",
    "tags": []
   },
   "outputs": [],
   "source": [
    "df = pd.DataFrame(pre_df,columns=cols)"
   ]
  },
  {
   "cell_type": "code",
   "execution_count": null,
   "id": "c4588f08",
   "metadata": {
    "cell_id": "12addda89fcb45098bbea7ef7cb7a8a9",
    "deepnote_cell_height": 598.933349609375,
    "deepnote_cell_type": "code",
    "deepnote_to_be_reexecuted": false,
    "execution_millis": 218,
    "execution_start": 1656591164178,
    "source_hash": "f804c160",
    "tags": []
   },
   "outputs": [
    {
     "data": {
      "application/vnd.deepnote.dataframe.v3+json": {
       "column_count": 20,
       "columns": [
        {
         "dtype": "float64",
         "name": "AAPL",
         "stats": {
          "histogram": [
           {
            "bin_end": 44.30549869537354,
            "bin_start": 29.0049991607666,
            "count": 393
           },
           {
            "bin_end": 59.60599822998047,
            "bin_start": 44.30549869537354,
            "count": 313
           },
           {
            "bin_end": 74.9064977645874,
            "bin_start": 59.60599822998047,
            "count": 100
           },
           {
            "bin_end": 90.20699729919434,
            "bin_start": 74.9064977645874,
            "count": 69
           },
           {
            "bin_end": 105.50749683380127,
            "bin_start": 90.20699729919434,
            "count": 25
           },
           {
            "bin_end": 120.8079963684082,
            "bin_start": 105.50749683380127,
            "count": 79
           },
           {
            "bin_end": 136.10849590301513,
            "bin_start": 120.8079963684082,
            "count": 147
           },
           {
            "bin_end": 151.40899543762208,
            "bin_start": 136.10849590301513,
            "count": 122
           },
           {
            "bin_end": 166.709494972229,
            "bin_start": 151.40899543762208,
            "count": 66
           },
           {
            "bin_end": 182.00999450683594,
            "bin_start": 166.709494972229,
            "count": 63
           }
          ],
          "max": "182.00999450683594",
          "min": "29.0049991607666",
          "nan_count": 0,
          "unique_count": 1330
         }
        },
        {
         "dtype": "float64",
         "name": "MSFT",
         "stats": {
          "histogram": [
           {
            "bin_end": 90.38099784851075,
            "bin_start": 62.29999923706055,
            "count": 277
           },
           {
            "bin_end": 118.46199645996094,
            "bin_start": 90.38099784851075,
            "count": 285
           },
           {
            "bin_end": 146.54299507141113,
            "bin_start": 118.46199645996094,
            "count": 164
           },
           {
            "bin_end": 174.62399368286134,
            "bin_start": 146.54299507141113,
            "count": 94
           },
           {
            "bin_end": 202.70499229431152,
            "bin_start": 174.62399368286134,
            "count": 68
           },
           {
            "bin_end": 230.7859909057617,
            "bin_start": 202.70499229431152,
            "count": 139
           },
           {
            "bin_end": 258.8669895172119,
            "bin_start": 230.7859909057617,
            "count": 99
           },
           {
            "bin_end": 286.94798812866213,
            "bin_start": 258.8669895172119,
            "count": 84
           },
           {
            "bin_end": 315.02898674011226,
            "bin_start": 286.94798812866213,
            "count": 116
           },
           {
            "bin_end": 343.1099853515625,
            "bin_start": 315.02898674011226,
            "count": 51
           }
          ],
          "max": "343.1099853515625",
          "min": "62.29999923706055",
          "nan_count": 0,
          "unique_count": 1319
         }
        },
        {
         "dtype": "float64",
         "name": "GOOG",
         "stats": {
          "histogram": [
           {
            "bin_end": 1008.9440063476562,
            "bin_start": 786.1400146484375,
            "count": 216
           },
           {
            "bin_end": 1231.747998046875,
            "bin_start": 1008.9440063476562,
            "count": 479
           },
           {
            "bin_end": 1454.5519897460938,
            "bin_start": 1231.747998046875,
            "count": 168
           },
           {
            "bin_end": 1677.3559814453124,
            "bin_start": 1454.5519897460938,
            "count": 103
           },
           {
            "bin_end": 1900.1599731445312,
            "bin_start": 1677.3559814453124,
            "count": 58
           },
           {
            "bin_end": 2122.96396484375,
            "bin_start": 1900.1599731445312,
            "count": 45
           },
           {
            "bin_end": 2345.767956542969,
            "bin_start": 2122.96396484375,
            "count": 61
           },
           {
            "bin_end": 2568.5719482421873,
            "bin_start": 2345.767956542969,
            "count": 54
           },
           {
            "bin_end": 2791.3759399414066,
            "bin_start": 2568.5719482421873,
            "count": 95
           },
           {
            "bin_end": 3014.179931640625,
            "bin_start": 2791.3759399414066,
            "count": 98
           }
          ],
          "max": "3014.179931640625",
          "min": "786.1400146484375",
          "nan_count": 0,
          "unique_count": 1367
         }
        },
        {
         "dtype": "float64",
         "name": "AMZN",
         "stats": {
          "histogram": [
           {
            "bin_end": 52.5721981048584,
            "bin_start": 37.68349838256836,
            "count": 206
           },
           {
            "bin_end": 67.46089782714844,
            "bin_start": 52.5721981048584,
            "count": 61
           },
           {
            "bin_end": 82.34959754943847,
            "bin_start": 67.46089782714844,
            "count": 150
           },
           {
            "bin_end": 97.23829727172851,
            "bin_start": 82.34959754943847,
            "count": 344
           },
           {
            "bin_end": 112.12699699401855,
            "bin_start": 97.23829727172851,
            "count": 83
           },
           {
            "bin_end": 127.01569671630858,
            "bin_start": 112.12699699401855,
            "count": 56
           },
           {
            "bin_end": 141.9043964385986,
            "bin_start": 127.01569671630858,
            "count": 26
           },
           {
            "bin_end": 156.79309616088867,
            "bin_start": 141.9043964385986,
            "count": 112
           },
           {
            "bin_end": 171.6817958831787,
            "bin_start": 156.79309616088867,
            "count": 260
           },
           {
            "bin_end": 186.57049560546875,
            "bin_start": 171.6817958831787,
            "count": 79
           }
          ],
          "max": "186.57049560546875",
          "min": "37.68349838256836",
          "nan_count": 0,
          "unique_count": 1364
         }
        },
        {
         "dtype": "float64",
         "name": "TSLA",
         "stats": {
          "histogram": [
           {
            "bin_end": 155.2056022644043,
            "bin_start": 35.79399871826172,
            "count": 826
           },
           {
            "bin_end": 274.61720581054686,
            "bin_start": 155.2056022644043,
            "count": 57
           },
           {
            "bin_end": 394.0288093566894,
            "bin_start": 274.61720581054686,
            "count": 38
           },
           {
            "bin_end": 513.440412902832,
            "bin_start": 394.0288093566894,
            "count": 59
           },
           {
            "bin_end": 632.8520164489746,
            "bin_start": 513.440412902832,
            "count": 51
           },
           {
            "bin_end": 752.2636199951171,
            "bin_start": 632.8520164489746,
            "count": 144
           },
           {
            "bin_end": 871.6752235412597,
            "bin_start": 752.2636199951171,
            "count": 84
           },
           {
            "bin_end": 991.0868270874023,
            "bin_start": 871.6752235412597,
            "count": 44
           },
           {
            "bin_end": 1110.4984306335448,
            "bin_start": 991.0868270874023,
            "count": 59
           },
           {
            "bin_end": 1229.9100341796875,
            "bin_start": 1110.4984306335448,
            "count": 15
           }
          ],
          "max": "1229.9100341796875",
          "min": "35.79399871826172",
          "nan_count": 0,
          "unique_count": 1358
         }
        },
        {
         "dtype": "float64",
         "name": "BRKA",
         "stats": {
          "histogram": [
           {
            "bin_end": 268208,
            "bin_start": 238100,
            "count": 197
           },
           {
            "bin_end": 298316,
            "bin_start": 268208,
            "count": 250
           },
           {
            "bin_end": 328424,
            "bin_start": 298316,
            "count": 439
           },
           {
            "bin_end": 358532,
            "bin_start": 328424,
            "count": 146
           },
           {
            "bin_end": 388640,
            "bin_start": 358532,
            "count": 30
           },
           {
            "bin_end": 418748,
            "bin_start": 388640,
            "count": 66
           },
           {
            "bin_end": 448856,
            "bin_start": 418748,
            "count": 134
           },
           {
            "bin_end": 478964,
            "bin_start": 448856,
            "count": 58
           },
           {
            "bin_end": 509072,
            "bin_start": 478964,
            "count": 32
           },
           {
            "bin_end": 539180,
            "bin_start": 509072,
            "count": 25
           }
          ],
          "max": "539180.0",
          "min": "238100.0",
          "nan_count": 0,
          "unique_count": 1307
         }
        },
        {
         "dtype": "float64",
         "name": "JNJ",
         "stats": {
          "histogram": [
           {
            "bin_end": 118.62699890136719,
            "bin_start": 111.13999938964844,
            "count": 33
           },
           {
            "bin_end": 126.11399841308594,
            "bin_start": 118.62699890136719,
            "count": 110
           },
           {
            "bin_end": 133.6009979248047,
            "bin_start": 126.11399841308594,
            "count": 303
           },
           {
            "bin_end": 141.08799743652344,
            "bin_start": 133.6009979248047,
            "count": 260
           },
           {
            "bin_end": 148.5749969482422,
            "bin_start": 141.08799743652344,
            "count": 209
           },
           {
            "bin_end": 156.06199645996094,
            "bin_start": 148.5749969482422,
            "count": 93
           },
           {
            "bin_end": 163.5489959716797,
            "bin_start": 156.06199645996094,
            "count": 104
           },
           {
            "bin_end": 171.03599548339844,
            "bin_start": 163.5489959716797,
            "count": 145
           },
           {
            "bin_end": 178.5229949951172,
            "bin_start": 171.03599548339844,
            "count": 91
           },
           {
            "bin_end": 186.00999450683594,
            "bin_start": 178.5229949951172,
            "count": 29
           }
          ],
          "max": "186.00999450683594",
          "min": "111.13999938964844",
          "nan_count": 0,
          "unique_count": 1215
         }
        },
        {
         "dtype": "float64",
         "name": "UNH",
         "stats": {
          "histogram": [
           {
            "bin_end": 196.45899658203126,
            "bin_start": 157.6199951171875,
            "count": 182
           },
           {
            "bin_end": 235.297998046875,
            "bin_start": 196.45899658203126,
            "count": 199
           },
           {
            "bin_end": 274.1369995117187,
            "bin_start": 235.297998046875,
            "count": 367
           },
           {
            "bin_end": 312.9760009765625,
            "bin_start": 274.1369995117187,
            "count": 185
           },
           {
            "bin_end": 351.81500244140625,
            "bin_start": 312.9760009765625,
            "count": 104
           },
           {
            "bin_end": 390.65400390624995,
            "bin_start": 351.81500244140625,
            "count": 44
           },
           {
            "bin_end": 429.4930053710937,
            "bin_start": 390.65400390624995,
            "count": 126
           },
           {
            "bin_end": 468.3320068359375,
            "bin_start": 429.4930053710937,
            "count": 55
           },
           {
            "bin_end": 507.17100830078124,
            "bin_start": 468.3320068359375,
            "count": 87
           },
           {
            "bin_end": 546.010009765625,
            "bin_start": 507.17100830078124,
            "count": 28
           }
          ],
          "max": "546.010009765625",
          "min": "157.6199951171875",
          "nan_count": 0,
          "unique_count": 1337
         }
        },
        {
         "dtype": "float64",
         "name": "META",
         "stats": {
          "histogram": [
           {
            "bin_end": 143.39199981689453,
            "bin_start": 116.86000061035156,
            "count": 107
           },
           {
            "bin_end": 169.9239990234375,
            "bin_start": 143.39199981689453,
            "count": 249
           },
           {
            "bin_end": 196.45599822998048,
            "bin_start": 169.9239990234375,
            "count": 410
           },
           {
            "bin_end": 222.98799743652344,
            "bin_start": 196.45599822998048,
            "count": 168
           },
           {
            "bin_end": 249.5199966430664,
            "bin_start": 222.98799743652344,
            "count": 66
           },
           {
            "bin_end": 276.0519958496094,
            "bin_start": 249.5199966430664,
            "count": 113
           },
           {
            "bin_end": 302.5839950561524,
            "bin_start": 276.0519958496094,
            "count": 60
           },
           {
            "bin_end": 329.1159942626953,
            "bin_start": 302.5839950561524,
            "count": 68
           },
           {
            "bin_end": 355.64799346923826,
            "bin_start": 329.1159942626953,
            "count": 98
           },
           {
            "bin_end": 382.17999267578125,
            "bin_start": 355.64799346923826,
            "count": 38
           }
          ],
          "max": "382.17999267578125",
          "min": "116.86000061035156",
          "nan_count": 0,
          "unique_count": 1320
         }
        },
        {
         "dtype": "float64",
         "name": "NVDA",
         "stats": {
          "histogram": [
           {
            "bin_end": 54.861250495910646,
            "bin_start": 23.872499465942383,
            "count": 551
           },
           {
            "bin_end": 85.85000152587891,
            "bin_start": 54.861250495910646,
            "count": 299
           },
           {
            "bin_end": 116.83875255584718,
            "bin_start": 85.85000152587891,
            "count": 62
           },
           {
            "bin_end": 147.82750358581544,
            "bin_start": 116.83875255584718,
            "count": 168
           },
           {
            "bin_end": 178.8162546157837,
            "bin_start": 147.82750358581544,
            "count": 61
           },
           {
            "bin_end": 209.80500564575198,
            "bin_start": 178.8162546157837,
            "count": 80
           },
           {
            "bin_end": 240.79375667572023,
            "bin_start": 209.80500564575198,
            "count": 64
           },
           {
            "bin_end": 271.7825077056885,
            "bin_start": 240.79375667572023,
            "count": 37
           },
           {
            "bin_end": 302.7712587356568,
            "bin_start": 271.7825077056885,
            "count": 34
           },
           {
            "bin_end": 333.760009765625,
            "bin_start": 302.7712587356568,
            "count": 21
           }
          ],
          "max": "333.760009765625",
          "min": "23.872499465942383",
          "nan_count": 0,
          "unique_count": 1351
         }
        },
        {
         "dtype": "float64",
         "name": "V",
         "stats": {
          "histogram": [
           {
            "bin_end": 96.64299926757812,
            "bin_start": 79.5,
            "count": 133
           },
           {
            "bin_end": 113.78599853515625,
            "bin_start": 96.64299926757812,
            "count": 114
           },
           {
            "bin_end": 130.9289978027344,
            "bin_start": 113.78599853515625,
            "count": 107
           },
           {
            "bin_end": 148.0719970703125,
            "bin_start": 130.9289978027344,
            "count": 184
           },
           {
            "bin_end": 165.21499633789062,
            "bin_start": 148.0719970703125,
            "count": 87
           },
           {
            "bin_end": 182.35799560546877,
            "bin_start": 165.21499633789062,
            "count": 154
           },
           {
            "bin_end": 199.5009948730469,
            "bin_start": 182.35799560546877,
            "count": 157
           },
           {
            "bin_end": 216.643994140625,
            "bin_start": 199.5009948730469,
            "count": 235
           },
           {
            "bin_end": 233.78699340820313,
            "bin_start": 216.643994140625,
            "count": 159
           },
           {
            "bin_end": 250.92999267578125,
            "bin_start": 233.78699340820313,
            "count": 47
           }
          ],
          "max": "250.92999267578125",
          "min": "79.5",
          "nan_count": 0,
          "unique_count": 1306
         }
        },
        {
         "dtype": "float64",
         "name": "XOM",
         "stats": {
          "histogram": [
           {
            "bin_end": 38.76400032043457,
            "bin_start": 31.450000762939453,
            "count": 70
           },
           {
            "bin_end": 46.077999877929685,
            "bin_start": 38.76400032043457,
            "count": 129
           },
           {
            "bin_end": 53.39199943542481,
            "bin_start": 46.077999877929685,
            "count": 49
           },
           {
            "bin_end": 60.70599899291992,
            "bin_start": 53.39199943542481,
            "count": 137
           },
           {
            "bin_end": 68.01999855041504,
            "bin_start": 60.70599899291992,
            "count": 128
           },
           {
            "bin_end": 75.33399810791016,
            "bin_start": 68.01999855041504,
            "count": 201
           },
           {
            "bin_end": 82.64799766540528,
            "bin_start": 75.33399810791016,
            "count": 456
           },
           {
            "bin_end": 89.9619972229004,
            "bin_start": 82.64799766540528,
            "count": 179
           },
           {
            "bin_end": 97.27599678039552,
            "bin_start": 89.9619972229004,
            "count": 19
           },
           {
            "bin_end": 104.58999633789062,
            "bin_start": 97.27599678039552,
            "count": 9
           }
          ],
          "max": "104.58999633789062",
          "min": "31.450000762939453",
          "nan_count": 0,
          "unique_count": 1147
         }
        },
        {
         "dtype": "float64",
         "name": "PG",
         "stats": {
          "histogram": [
           {
            "bin_end": 80.26700286865234,
            "bin_start": 70.94000244140625,
            "count": 110
           },
           {
            "bin_end": 89.59400329589843,
            "bin_start": 80.26700286865234,
            "count": 214
           },
           {
            "bin_end": 98.92100372314454,
            "bin_start": 89.59400329589843,
            "count": 215
           },
           {
            "bin_end": 108.24800415039063,
            "bin_start": 98.92100372314454,
            "count": 77
           },
           {
            "bin_end": 117.57500457763672,
            "bin_start": 108.24800415039063,
            "count": 100
           },
           {
            "bin_end": 126.90200500488282,
            "bin_start": 117.57500457763672,
            "count": 189
           },
           {
            "bin_end": 136.22900543212893,
            "bin_start": 126.90200500488282,
            "count": 109
           },
           {
            "bin_end": 145.556005859375,
            "bin_start": 136.22900543212893,
            "count": 227
           },
           {
            "bin_end": 154.88300628662108,
            "bin_start": 145.556005859375,
            "count": 57
           },
           {
            "bin_end": 164.2100067138672,
            "bin_start": 154.88300628662108,
            "count": 79
           }
          ],
          "max": "164.2100067138672",
          "min": "70.94000244140625",
          "nan_count": 0,
          "unique_count": 1229
         }
        },
        {
         "dtype": "float64",
         "name": "JPM",
         "stats": {
          "histogram": [
           {
            "bin_end": 88.30499877929688,
            "bin_start": 79.02999877929688,
            "count": 108
           },
           {
            "bin_end": 97.57999877929687,
            "bin_start": 88.30499877929688,
            "count": 185
           },
           {
            "bin_end": 106.85499877929688,
            "bin_start": 97.57999877929687,
            "count": 235
           },
           {
            "bin_end": 116.12999877929687,
            "bin_start": 106.85499877929688,
            "count": 317
           },
           {
            "bin_end": 125.40499877929688,
            "bin_start": 116.12999877929687,
            "count": 106
           },
           {
            "bin_end": 134.67999877929688,
            "bin_start": 125.40499877929688,
            "count": 86
           },
           {
            "bin_end": 143.9549987792969,
            "bin_start": 134.67999877929688,
            "count": 79
           },
           {
            "bin_end": 153.22999877929686,
            "bin_start": 143.9549987792969,
            "count": 78
           },
           {
            "bin_end": 162.5049987792969,
            "bin_start": 153.22999877929686,
            "count": 118
           },
           {
            "bin_end": 171.77999877929688,
            "bin_start": 162.5049987792969,
            "count": 65
           }
          ],
          "max": "171.77999877929688",
          "min": "79.02999877929688",
          "nan_count": 0,
          "unique_count": 1231
         }
        },
        {
         "dtype": "float64",
         "name": "WMT",
         "stats": {
          "histogram": [
           {
            "bin_end": 75.08100280761718,
            "bin_start": 65.66000366210938,
            "count": 83
           },
           {
            "bin_end": 84.502001953125,
            "bin_start": 75.08100280761718,
            "count": 138
           },
           {
            "bin_end": 93.92300109863281,
            "bin_start": 84.502001953125,
            "count": 146
           },
           {
            "bin_end": 103.34400024414063,
            "bin_start": 93.92300109863281,
            "count": 222
           },
           {
            "bin_end": 112.76499938964844,
            "bin_start": 103.34400024414063,
            "count": 73
           },
           {
            "bin_end": 122.18599853515624,
            "bin_start": 112.76499938964844,
            "count": 194
           },
           {
            "bin_end": 131.60699768066405,
            "bin_start": 122.18599853515624,
            "count": 78
           },
           {
            "bin_end": 141.0279968261719,
            "bin_start": 131.60699768066405,
            "count": 184
           },
           {
            "bin_end": 150.44899597167966,
            "bin_start": 141.0279968261719,
            "count": 219
           },
           {
            "bin_end": 159.8699951171875,
            "bin_start": 150.44899597167966,
            "count": 40
           }
          ],
          "max": "159.8699951171875",
          "min": "65.66000366210938",
          "nan_count": 0,
          "unique_count": 1262
         }
        },
        {
         "dtype": "float64",
         "name": "MA",
         "stats": {
          "histogram": [
           {
            "bin_end": 134.175,
            "bin_start": 105,
            "count": 171
           },
           {
            "bin_end": 163.35,
            "bin_start": 134.175,
            "count": 91
           },
           {
            "bin_end": 192.525,
            "bin_start": 163.35,
            "count": 112
           },
           {
            "bin_end": 221.7,
            "bin_start": 192.525,
            "count": 156
           },
           {
            "bin_end": 250.875,
            "bin_start": 221.7,
            "count": 82
           },
           {
            "bin_end": 280.05,
            "bin_start": 250.875,
            "count": 144
           },
           {
            "bin_end": 309.225,
            "bin_start": 280.05,
            "count": 115
           },
           {
            "bin_end": 338.4,
            "bin_start": 309.225,
            "count": 154
           },
           {
            "bin_end": 367.575,
            "bin_start": 338.4,
            "count": 251
           },
           {
            "bin_end": 396.75,
            "bin_start": 367.575,
            "count": 101
           }
          ],
          "max": "396.75",
          "min": "105.0",
          "nan_count": 0,
          "unique_count": 1333
         }
        },
        {
         "dtype": "float64",
         "name": "LLY",
         "stats": {
          "histogram": [
           {
            "bin_end": 99.1370002746582,
            "bin_start": 74.20999908447266,
            "count": 398
           },
           {
            "bin_end": 124.06400146484376,
            "bin_start": 99.1370002746582,
            "count": 320
           },
           {
            "bin_end": 148.9910026550293,
            "bin_start": 124.06400146484376,
            "count": 164
           },
           {
            "bin_end": 173.91800384521486,
            "bin_start": 148.9910026550293,
            "count": 130
           },
           {
            "bin_end": 198.8450050354004,
            "bin_start": 173.91800384521486,
            "count": 56
           },
           {
            "bin_end": 223.77200622558593,
            "bin_start": 198.8450050354004,
            "count": 55
           },
           {
            "bin_end": 248.6990074157715,
            "bin_start": 223.77200622558593,
            "count": 100
           },
           {
            "bin_end": 273.62600860595705,
            "bin_start": 248.6990074157715,
            "count": 78
           },
           {
            "bin_end": 298.55300979614253,
            "bin_start": 273.62600860595705,
            "count": 51
           },
           {
            "bin_end": 323.4800109863281,
            "bin_start": 298.55300979614253,
            "count": 25
           }
          ],
          "max": "323.4800109863281",
          "min": "74.20999908447266",
          "nan_count": 0,
          "unique_count": 1277
         }
        },
        {
         "dtype": "float64",
         "name": "HD",
         "stats": {
          "histogram": [
           {
            "bin_end": 161.7949981689453,
            "bin_start": 133.52999877929688,
            "count": 191
           },
           {
            "bin_end": 190.05999755859375,
            "bin_start": 161.7949981689453,
            "count": 260
           },
           {
            "bin_end": 218.3249969482422,
            "bin_start": 190.05999755859375,
            "count": 263
           },
           {
            "bin_end": 246.58999633789062,
            "bin_start": 218.3249969482422,
            "count": 147
           },
           {
            "bin_end": 274.85499572753906,
            "bin_start": 246.58999633789062,
            "count": 123
           },
           {
            "bin_end": 303.1199951171875,
            "bin_start": 274.85499572753906,
            "count": 121
           },
           {
            "bin_end": 331.38499450683594,
            "bin_start": 303.1199951171875,
            "count": 149
           },
           {
            "bin_end": 359.6499938964844,
            "bin_start": 331.38499450683594,
            "count": 52
           },
           {
            "bin_end": 387.9149932861328,
            "bin_start": 359.6499938964844,
            "count": 33
           },
           {
            "bin_end": 416.17999267578125,
            "bin_start": 387.9149932861328,
            "count": 38
           }
          ],
          "max": "416.17999267578125",
          "min": "133.52999877929688",
          "nan_count": 0,
          "unique_count": 1327
         }
        },
        {
         "dtype": "float64",
         "name": "PFE",
         "stats": {
          "histogram": [
           {
            "bin_end": 30.452325057983398,
            "bin_start": 27.03036117553711,
            "count": 30
           },
           {
            "bin_end": 33.874288940429686,
            "bin_start": 30.452325057983398,
            "count": 300
           },
           {
            "bin_end": 37.29625282287598,
            "bin_start": 33.874288940429686,
            "count": 465
           },
           {
            "bin_end": 40.71821670532226,
            "bin_start": 37.29625282287598,
            "count": 243
           },
           {
            "bin_end": 44.140180587768555,
            "bin_start": 40.71821670532226,
            "count": 146
           },
           {
            "bin_end": 47.56214447021485,
            "bin_start": 44.140180587768555,
            "count": 36
           },
           {
            "bin_end": 50.98410835266114,
            "bin_start": 47.56214447021485,
            "count": 63
           },
           {
            "bin_end": 54.40607223510742,
            "bin_start": 50.98410835266114,
            "count": 66
           },
           {
            "bin_end": 57.82803611755371,
            "bin_start": 54.40607223510742,
            "count": 17
           },
           {
            "bin_end": 61.25,
            "bin_start": 57.82803611755371,
            "count": 11
           }
          ],
          "max": "61.25",
          "min": "27.03036117553711",
          "nan_count": 0,
          "unique_count": 990
         }
        },
        {
         "dtype": "float64",
         "name": "CVX",
         "stats": {
          "histogram": [
           {
            "bin_end": 66.91100158691407,
            "bin_start": 54.220001220703125,
            "count": 6
           },
           {
            "bin_end": 79.602001953125,
            "bin_start": 66.91100158691407,
            "count": 54
           },
           {
            "bin_end": 92.29300231933594,
            "bin_start": 79.602001953125,
            "count": 147
           },
           {
            "bin_end": 104.98400268554687,
            "bin_start": 92.29300231933594,
            "count": 192
           },
           {
            "bin_end": 117.67500305175781,
            "bin_start": 104.98400268554687,
            "count": 472
           },
           {
            "bin_end": 130.36600341796876,
            "bin_start": 117.67500305175781,
            "count": 391
           },
           {
            "bin_end": 143.0570037841797,
            "bin_start": 130.36600341796876,
            "count": 35
           },
           {
            "bin_end": 155.7480041503906,
            "bin_start": 143.0570037841797,
            "count": 7
           },
           {
            "bin_end": 168.43900451660159,
            "bin_start": 155.7480041503906,
            "count": 45
           },
           {
            "bin_end": 181.1300048828125,
            "bin_start": 168.43900451660159,
            "count": 28
           }
          ],
          "max": "181.1300048828125",
          "min": "54.220001220703125",
          "nan_count": 0,
          "unique_count": 1201
         }
        },
        {
         "dtype": "int64",
         "name": "_deepnote_index_column"
        }
       ],
       "row_count": 1377,
       "rows": [
        {
         "AAPL": 29.037500381469727,
         "AMZN": 37.68349838256836,
         "BRKA": 245850,
         "CVX": 117.8499984741211,
         "GOOG": 786.1400146484375,
         "HD": 134.30999755859375,
         "JNJ": 115.83999633789062,
         "JPM": 87.2300033569336,
         "LLY": 74.5999984741211,
         "MA": 105.38999938964844,
         "META": 116.86000061035156,
         "MSFT": 62.58000183105469,
         "NVDA": 25.502500534057617,
         "PFE": 31.309297561645508,
         "PG": 84.19999694824219,
         "TSLA": 43.39799880981445,
         "UNH": 161.4499969482422,
         "V": 79.5,
         "WMT": 68.66000366210938,
         "XOM": 90.88999938964844,
         "_deepnote_index_column": 0
        },
        {
         "AAPL": 29.0049991607666,
         "AMZN": 37.85900115966797,
         "BRKA": 246600,
         "CVX": 117.81999969482422,
         "GOOG": 786.9000244140625,
         "HD": 135.5,
         "JNJ": 115.6500015258789,
         "JPM": 86.91000366210938,
         "LLY": 74.72000122070312,
         "MA": 106.38999938964844,
         "META": 118.69000244140625,
         "MSFT": 62.29999923706055,
         "NVDA": 26.09749984741211,
         "PFE": 31.584440231323242,
         "PG": 84.5,
         "TSLA": 45.39799880981445,
         "UNH": 161.91000366210938,
         "V": 80.1500015258789,
         "WMT": 69.05999755859375,
         "XOM": 89.88999938964844,
         "_deepnote_index_column": 1
        },
        {
         "AAPL": 29.15250015258789,
         "AMZN": 39.022499084472656,
         "BRKA": 244852,
         "CVX": 117.30999755859375,
         "GOOG": 794.02001953125,
         "HD": 133.89999389648438,
         "JNJ": 116.86000061035156,
         "JPM": 86.11000061035156,
         "LLY": 75.58999633789062,
         "MA": 106.98999786376953,
         "META": 120.66999816894531,
         "MSFT": 62.29999923706055,
         "NVDA": 25.434999465942383,
         "PFE": 31.888046264648438,
         "PG": 85.05999755859375,
         "TSLA": 45.349998474121094,
         "UNH": 162.17999267578125,
         "V": 81.08999633789062,
         "WMT": 69.20999908447266,
         "XOM": 88.55000305175781,
         "_deepnote_index_column": 2
        },
        {
         "AAPL": 29.477500915527344,
         "AMZN": 39.79949951171875,
         "BRKA": 245394,
         "CVX": 116.83999633789062,
         "GOOG": 806.1500244140625,
         "HD": 133.52999877929688,
         "JNJ": 116.30000305175781,
         "JPM": 86.12000274658203,
         "LLY": 75.66999816894531,
         "MA": 107.76000213623047,
         "META": 123.41000366210938,
         "MSFT": 62.84000015258789,
         "NVDA": 25.774999618530273,
         "PFE": 31.764705657958984,
         "PG": 85.02999877929688,
         "TSLA": 45.801998138427734,
         "UNH": 162.41000366210938,
         "V": 82.20999908447266,
         "WMT": 68.26000213623047,
         "XOM": 88.5,
         "_deepnote_index_column": 3
        },
        {
         "AAPL": 29.747499465942383,
         "AMZN": 39.84600067138672,
         "BRKA": 243111,
         "CVX": 115.83999633789062,
         "GOOG": 806.6500244140625,
         "HD": 134.30999755859375,
         "JNJ": 116.27999877929688,
         "JPM": 86.18000030517578,
         "LLY": 76.2699966430664,
         "MA": 107.55000305175781,
         "META": 124.9000015258789,
         "MSFT": 62.63999938964844,
         "NVDA": 26.81999969482422,
         "PFE": 31.755218505859375,
         "PG": 84.4000015258789,
         "TSLA": 46.25600051879883,
         "UNH": 161.9499969482422,
         "V": 81.75,
         "WMT": 68.70999908447266,
         "XOM": 87.04000091552734,
         "_deepnote_index_column": 4
        },
        {
         "AAPL": 29.77750015258789,
         "AMZN": 39.79499816894531,
         "BRKA": 242077,
         "CVX": 114.95999908447266,
         "GOOG": 804.7899780273438,
         "HD": 136.10000610351562,
         "JNJ": 116.16000366210938,
         "JPM": 86.43000030517578,
         "LLY": 76.2699966430664,
         "MA": 107.31999969482422,
         "META": 124.3499984741211,
         "MSFT": 62.619998931884766,
         "NVDA": 26.61750030517578,
         "PFE": 31.726755142211914,
         "PG": 83.48999786376953,
         "TSLA": 45.9739990234375,
         "UNH": 161.5800018310547,
         "V": 81.30999755859375,
         "WMT": 68.2300033569336,
         "XOM": 85.93000030517578,
         "_deepnote_index_column": 5
        },
        {
         "AAPL": 29.9375,
         "AMZN": 39.95100021362305,
         "BRKA": 243160,
         "CVX": 115.93000030517578,
         "GOOG": 807.9099731445312,
         "HD": 135.6999969482422,
         "JNJ": 114.7300033569336,
         "JPM": 87.08000183105469,
         "LLY": 75.26000213623047,
         "MA": 107.80999755859375,
         "META": 126.08999633789062,
         "MSFT": 63.189998626708984,
         "NVDA": 26.290000915527344,
         "PFE": 31.148008346557617,
         "PG": 83.75,
         "TSLA": 45.94599914550781,
         "UNH": 161.88999938964844,
         "V": 81.80000305175781,
         "WMT": 68.52999877929688,
         "XOM": 86.80999755859375,
         "_deepnote_index_column": 6
        },
        {
         "AAPL": 29.8125,
         "AMZN": 40.68199920654297,
         "BRKA": 242850,
         "CVX": 116.16000366210938,
         "GOOG": 806.3599853515625,
         "HD": 135.07000732421875,
         "JNJ": 114.62000274658203,
         "JPM": 86.23999786376953,
         "LLY": 77.1500015258789,
         "MA": 108.70999908447266,
         "META": 126.62000274658203,
         "MSFT": 62.61000061035156,
         "NVDA": 25.860000610351562,
         "PFE": 30.929790496826172,
         "PG": 83.83999633789062,
         "TSLA": 45.917999267578125,
         "UNH": 162.36000061035156,
         "V": 81.37000274658203,
         "WMT": 67.97000122070312,
         "XOM": 86.33999633789062,
         "_deepnote_index_column": 7
        },
        {
         "AAPL": 29.760000228881836,
         "AMZN": 40.856998443603516,
         "BRKA": 242500,
         "CVX": 116.37999725341797,
         "GOOG": 807.8800048828125,
         "HD": 135.0399932861328,
         "JNJ": 114.5999984741211,
         "JPM": 86.69999694824219,
         "LLY": 77.4000015258789,
         "MA": 108.69999694824219,
         "META": 128.33999633789062,
         "MSFT": 62.70000076293945,
         "NVDA": 25.857500076293945,
         "PFE": 30.85388946533203,
         "PG": 84.01000213623047,
         "TSLA": 47.54999923706055,
         "UNH": 161.8000030517578,
         "V": 81.16999816894531,
         "WMT": 67.12999725341797,
         "XOM": 86.3499984741211,
         "_deepnote_index_column": 8
        },
        {
         "AAPL": 30,
         "AMZN": 40.486000061035156,
         "BRKA": 239166,
         "CVX": 116.27999877929688,
         "GOOG": 804.6099853515625,
         "HD": 135.92999267578125,
         "JNJ": 114.87000274658203,
         "JPM": 83.55000305175781,
         "LLY": 76.8499984741211,
         "MA": 108.4000015258789,
         "META": 127.87000274658203,
         "MSFT": 62.529998779296875,
         "NVDA": 25.27750015258789,
         "PFE": 30.417457580566406,
         "PG": 85.20999908447266,
         "TSLA": 47.11600112915039,
         "UNH": 160.66000366210938,
         "V": 81.26000213623047,
         "WMT": 68.41999816894531,
         "XOM": 87.36000061035156,
         "_deepnote_index_column": 9
        }
       ]
      },
      "text/html": [
       "<div>\n",
       "<style scoped>\n",
       "    .dataframe tbody tr th:only-of-type {\n",
       "        vertical-align: middle;\n",
       "    }\n",
       "\n",
       "    .dataframe tbody tr th {\n",
       "        vertical-align: top;\n",
       "    }\n",
       "\n",
       "    .dataframe thead th {\n",
       "        text-align: right;\n",
       "    }\n",
       "</style>\n",
       "<table border=\"1\" class=\"dataframe\">\n",
       "  <thead>\n",
       "    <tr style=\"text-align: right;\">\n",
       "      <th></th>\n",
       "      <th>AAPL</th>\n",
       "      <th>MSFT</th>\n",
       "      <th>GOOG</th>\n",
       "      <th>AMZN</th>\n",
       "      <th>TSLA</th>\n",
       "      <th>BRKA</th>\n",
       "      <th>JNJ</th>\n",
       "      <th>UNH</th>\n",
       "      <th>META</th>\n",
       "      <th>NVDA</th>\n",
       "      <th>V</th>\n",
       "      <th>XOM</th>\n",
       "      <th>PG</th>\n",
       "      <th>JPM</th>\n",
       "      <th>WMT</th>\n",
       "      <th>MA</th>\n",
       "      <th>LLY</th>\n",
       "      <th>HD</th>\n",
       "      <th>PFE</th>\n",
       "      <th>CVX</th>\n",
       "    </tr>\n",
       "  </thead>\n",
       "  <tbody>\n",
       "    <tr>\n",
       "      <th>0</th>\n",
       "      <td>29.037500</td>\n",
       "      <td>62.580002</td>\n",
       "      <td>786.140015</td>\n",
       "      <td>37.683498</td>\n",
       "      <td>43.397999</td>\n",
       "      <td>245850.0</td>\n",
       "      <td>115.839996</td>\n",
       "      <td>161.449997</td>\n",
       "      <td>116.860001</td>\n",
       "      <td>25.502501</td>\n",
       "      <td>79.500000</td>\n",
       "      <td>90.889999</td>\n",
       "      <td>84.199997</td>\n",
       "      <td>87.230003</td>\n",
       "      <td>68.660004</td>\n",
       "      <td>105.389999</td>\n",
       "      <td>74.599998</td>\n",
       "      <td>134.309998</td>\n",
       "      <td>31.309298</td>\n",
       "      <td>117.849998</td>\n",
       "    </tr>\n",
       "    <tr>\n",
       "      <th>1</th>\n",
       "      <td>29.004999</td>\n",
       "      <td>62.299999</td>\n",
       "      <td>786.900024</td>\n",
       "      <td>37.859001</td>\n",
       "      <td>45.397999</td>\n",
       "      <td>246600.0</td>\n",
       "      <td>115.650002</td>\n",
       "      <td>161.910004</td>\n",
       "      <td>118.690002</td>\n",
       "      <td>26.097500</td>\n",
       "      <td>80.150002</td>\n",
       "      <td>89.889999</td>\n",
       "      <td>84.500000</td>\n",
       "      <td>86.910004</td>\n",
       "      <td>69.059998</td>\n",
       "      <td>106.389999</td>\n",
       "      <td>74.720001</td>\n",
       "      <td>135.500000</td>\n",
       "      <td>31.584440</td>\n",
       "      <td>117.820000</td>\n",
       "    </tr>\n",
       "    <tr>\n",
       "      <th>2</th>\n",
       "      <td>29.152500</td>\n",
       "      <td>62.299999</td>\n",
       "      <td>794.020020</td>\n",
       "      <td>39.022499</td>\n",
       "      <td>45.349998</td>\n",
       "      <td>244852.0</td>\n",
       "      <td>116.860001</td>\n",
       "      <td>162.179993</td>\n",
       "      <td>120.669998</td>\n",
       "      <td>25.434999</td>\n",
       "      <td>81.089996</td>\n",
       "      <td>88.550003</td>\n",
       "      <td>85.059998</td>\n",
       "      <td>86.110001</td>\n",
       "      <td>69.209999</td>\n",
       "      <td>106.989998</td>\n",
       "      <td>75.589996</td>\n",
       "      <td>133.899994</td>\n",
       "      <td>31.888046</td>\n",
       "      <td>117.309998</td>\n",
       "    </tr>\n",
       "    <tr>\n",
       "      <th>3</th>\n",
       "      <td>29.477501</td>\n",
       "      <td>62.840000</td>\n",
       "      <td>806.150024</td>\n",
       "      <td>39.799500</td>\n",
       "      <td>45.801998</td>\n",
       "      <td>245394.0</td>\n",
       "      <td>116.300003</td>\n",
       "      <td>162.410004</td>\n",
       "      <td>123.410004</td>\n",
       "      <td>25.775000</td>\n",
       "      <td>82.209999</td>\n",
       "      <td>88.500000</td>\n",
       "      <td>85.029999</td>\n",
       "      <td>86.120003</td>\n",
       "      <td>68.260002</td>\n",
       "      <td>107.760002</td>\n",
       "      <td>75.669998</td>\n",
       "      <td>133.529999</td>\n",
       "      <td>31.764706</td>\n",
       "      <td>116.839996</td>\n",
       "    </tr>\n",
       "    <tr>\n",
       "      <th>4</th>\n",
       "      <td>29.747499</td>\n",
       "      <td>62.639999</td>\n",
       "      <td>806.650024</td>\n",
       "      <td>39.846001</td>\n",
       "      <td>46.256001</td>\n",
       "      <td>243111.0</td>\n",
       "      <td>116.279999</td>\n",
       "      <td>161.949997</td>\n",
       "      <td>124.900002</td>\n",
       "      <td>26.820000</td>\n",
       "      <td>81.750000</td>\n",
       "      <td>87.040001</td>\n",
       "      <td>84.400002</td>\n",
       "      <td>86.180000</td>\n",
       "      <td>68.709999</td>\n",
       "      <td>107.550003</td>\n",
       "      <td>76.269997</td>\n",
       "      <td>134.309998</td>\n",
       "      <td>31.755219</td>\n",
       "      <td>115.839996</td>\n",
       "    </tr>\n",
       "    <tr>\n",
       "      <th>...</th>\n",
       "      <td>...</td>\n",
       "      <td>...</td>\n",
       "      <td>...</td>\n",
       "      <td>...</td>\n",
       "      <td>...</td>\n",
       "      <td>...</td>\n",
       "      <td>...</td>\n",
       "      <td>...</td>\n",
       "      <td>...</td>\n",
       "      <td>...</td>\n",
       "      <td>...</td>\n",
       "      <td>...</td>\n",
       "      <td>...</td>\n",
       "      <td>...</td>\n",
       "      <td>...</td>\n",
       "      <td>...</td>\n",
       "      <td>...</td>\n",
       "      <td>...</td>\n",
       "      <td>...</td>\n",
       "      <td>...</td>\n",
       "    </tr>\n",
       "    <tr>\n",
       "      <th>1372</th>\n",
       "      <td>135.429993</td>\n",
       "      <td>251.759995</td>\n",
       "      <td>2207.810059</td>\n",
       "      <td>107.669998</td>\n",
       "      <td>699.000000</td>\n",
       "      <td>418600.0</td>\n",
       "      <td>169.990005</td>\n",
       "      <td>464.329987</td>\n",
       "      <td>169.350006</td>\n",
       "      <td>165.270004</td>\n",
       "      <td>196.160004</td>\n",
       "      <td>94.889999</td>\n",
       "      <td>132.509995</td>\n",
       "      <td>115.410004</td>\n",
       "      <td>119.379997</td>\n",
       "      <td>325.390015</td>\n",
       "      <td>292.989990</td>\n",
       "      <td>279.730011</td>\n",
       "      <td>48.509998</td>\n",
       "      <td>164.259995</td>\n",
       "    </tr>\n",
       "    <tr>\n",
       "      <th>1373</th>\n",
       "      <td>130.059998</td>\n",
       "      <td>244.970001</td>\n",
       "      <td>2132.719971</td>\n",
       "      <td>103.660004</td>\n",
       "      <td>639.299988</td>\n",
       "      <td>403971.0</td>\n",
       "      <td>170.080002</td>\n",
       "      <td>456.089996</td>\n",
       "      <td>160.869995</td>\n",
       "      <td>156.009995</td>\n",
       "      <td>189.050003</td>\n",
       "      <td>91.389999</td>\n",
       "      <td>133.320007</td>\n",
       "      <td>113.430000</td>\n",
       "      <td>120.620003</td>\n",
       "      <td>308.779999</td>\n",
       "      <td>288.070007</td>\n",
       "      <td>273.459991</td>\n",
       "      <td>47.480000</td>\n",
       "      <td>155.479996</td>\n",
       "    </tr>\n",
       "    <tr>\n",
       "      <th>1374</th>\n",
       "      <td>131.559998</td>\n",
       "      <td>247.649994</td>\n",
       "      <td>2157.310059</td>\n",
       "      <td>106.220001</td>\n",
       "      <td>650.280029</td>\n",
       "      <td>403150.0</td>\n",
       "      <td>169.460007</td>\n",
       "      <td>452.059998</td>\n",
       "      <td>163.740005</td>\n",
       "      <td>158.800003</td>\n",
       "      <td>190.009995</td>\n",
       "      <td>86.120003</td>\n",
       "      <td>132.360001</td>\n",
       "      <td>113.029999</td>\n",
       "      <td>118.290001</td>\n",
       "      <td>310.690002</td>\n",
       "      <td>290.899994</td>\n",
       "      <td>270.730011</td>\n",
       "      <td>46.529999</td>\n",
       "      <td>148.380005</td>\n",
       "    </tr>\n",
       "    <tr>\n",
       "      <th>1375</th>\n",
       "      <td>135.869995</td>\n",
       "      <td>253.740005</td>\n",
       "      <td>2240.300049</td>\n",
       "      <td>108.680000</td>\n",
       "      <td>711.109985</td>\n",
       "      <td>407800.0</td>\n",
       "      <td>173.009995</td>\n",
       "      <td>480.320007</td>\n",
       "      <td>157.050003</td>\n",
       "      <td>165.660004</td>\n",
       "      <td>194.389999</td>\n",
       "      <td>91.480003</td>\n",
       "      <td>136.369995</td>\n",
       "      <td>115.830002</td>\n",
       "      <td>122.169998</td>\n",
       "      <td>317.399994</td>\n",
       "      <td>297.339996</td>\n",
       "      <td>269.200012</td>\n",
       "      <td>48.110001</td>\n",
       "      <td>154.589996</td>\n",
       "    </tr>\n",
       "    <tr>\n",
       "      <th>1376</th>\n",
       "      <td>135.350006</td>\n",
       "      <td>253.130005</td>\n",
       "      <td>2240.679932</td>\n",
       "      <td>108.949997</td>\n",
       "      <td>708.260010</td>\n",
       "      <td>405649.0</td>\n",
       "      <td>175.740005</td>\n",
       "      <td>489.679993</td>\n",
       "      <td>155.850006</td>\n",
       "      <td>163.600006</td>\n",
       "      <td>193.820007</td>\n",
       "      <td>87.860001</td>\n",
       "      <td>138.500000</td>\n",
       "      <td>115.180000</td>\n",
       "      <td>120.690002</td>\n",
       "      <td>316.149994</td>\n",
       "      <td>306.690002</td>\n",
       "      <td>268.980011</td>\n",
       "      <td>49.070000</td>\n",
       "      <td>147.869995</td>\n",
       "    </tr>\n",
       "  </tbody>\n",
       "</table>\n",
       "<p>1377 rows × 20 columns</p>\n",
       "</div>"
      ],
      "text/plain": [
       "            AAPL        MSFT         GOOG        AMZN        TSLA      BRKA  \\\n",
       "0      29.037500   62.580002   786.140015   37.683498   43.397999  245850.0   \n",
       "1      29.004999   62.299999   786.900024   37.859001   45.397999  246600.0   \n",
       "2      29.152500   62.299999   794.020020   39.022499   45.349998  244852.0   \n",
       "3      29.477501   62.840000   806.150024   39.799500   45.801998  245394.0   \n",
       "4      29.747499   62.639999   806.650024   39.846001   46.256001  243111.0   \n",
       "...          ...         ...          ...         ...         ...       ...   \n",
       "1372  135.429993  251.759995  2207.810059  107.669998  699.000000  418600.0   \n",
       "1373  130.059998  244.970001  2132.719971  103.660004  639.299988  403971.0   \n",
       "1374  131.559998  247.649994  2157.310059  106.220001  650.280029  403150.0   \n",
       "1375  135.869995  253.740005  2240.300049  108.680000  711.109985  407800.0   \n",
       "1376  135.350006  253.130005  2240.679932  108.949997  708.260010  405649.0   \n",
       "\n",
       "             JNJ         UNH        META        NVDA           V        XOM  \\\n",
       "0     115.839996  161.449997  116.860001   25.502501   79.500000  90.889999   \n",
       "1     115.650002  161.910004  118.690002   26.097500   80.150002  89.889999   \n",
       "2     116.860001  162.179993  120.669998   25.434999   81.089996  88.550003   \n",
       "3     116.300003  162.410004  123.410004   25.775000   82.209999  88.500000   \n",
       "4     116.279999  161.949997  124.900002   26.820000   81.750000  87.040001   \n",
       "...          ...         ...         ...         ...         ...        ...   \n",
       "1372  169.990005  464.329987  169.350006  165.270004  196.160004  94.889999   \n",
       "1373  170.080002  456.089996  160.869995  156.009995  189.050003  91.389999   \n",
       "1374  169.460007  452.059998  163.740005  158.800003  190.009995  86.120003   \n",
       "1375  173.009995  480.320007  157.050003  165.660004  194.389999  91.480003   \n",
       "1376  175.740005  489.679993  155.850006  163.600006  193.820007  87.860001   \n",
       "\n",
       "              PG         JPM         WMT          MA         LLY          HD  \\\n",
       "0      84.199997   87.230003   68.660004  105.389999   74.599998  134.309998   \n",
       "1      84.500000   86.910004   69.059998  106.389999   74.720001  135.500000   \n",
       "2      85.059998   86.110001   69.209999  106.989998   75.589996  133.899994   \n",
       "3      85.029999   86.120003   68.260002  107.760002   75.669998  133.529999   \n",
       "4      84.400002   86.180000   68.709999  107.550003   76.269997  134.309998   \n",
       "...          ...         ...         ...         ...         ...         ...   \n",
       "1372  132.509995  115.410004  119.379997  325.390015  292.989990  279.730011   \n",
       "1373  133.320007  113.430000  120.620003  308.779999  288.070007  273.459991   \n",
       "1374  132.360001  113.029999  118.290001  310.690002  290.899994  270.730011   \n",
       "1375  136.369995  115.830002  122.169998  317.399994  297.339996  269.200012   \n",
       "1376  138.500000  115.180000  120.690002  316.149994  306.690002  268.980011   \n",
       "\n",
       "            PFE         CVX  \n",
       "0     31.309298  117.849998  \n",
       "1     31.584440  117.820000  \n",
       "2     31.888046  117.309998  \n",
       "3     31.764706  116.839996  \n",
       "4     31.755219  115.839996  \n",
       "...         ...         ...  \n",
       "1372  48.509998  164.259995  \n",
       "1373  47.480000  155.479996  \n",
       "1374  46.529999  148.380005  \n",
       "1375  48.110001  154.589996  \n",
       "1376  49.070000  147.869995  \n",
       "\n",
       "[1377 rows x 20 columns]"
      ]
     },
     "execution_count": 14,
     "metadata": {},
     "output_type": "execute_result"
    }
   ],
   "source": [
    "df"
   ]
  },
  {
   "cell_type": "code",
   "execution_count": null,
   "id": "9b484283",
   "metadata": {
    "cell_id": "bc2eb84560944eb6a54bb3f76238e656",
    "deepnote_cell_height": 691.4666748046875,
    "deepnote_cell_type": "code",
    "deepnote_output_heights": [
     469
    ],
    "deepnote_to_be_reexecuted": false,
    "execution_millis": 1571,
    "execution_start": 1656591164317,
    "owner_user_id": "a47a9453-a321-445b-b729-beb76345ea40",
    "source_hash": "25bdd134",
    "tags": []
   },
   "outputs": [
    {
     "data": {
      "image/png": "[encoded data removed]",
      "text/plain": [
       "<Figure size 1080x1080 with 2 Axes>"
      ]
     },
     "metadata": {
      "image/png": {
       "height": 846,
       "width": 814
      },
      "needs_background": "light"
     },
     "output_type": "display_data"
    }
   ],
   "source": [
    "corrMatrix = df.corr()\n",
    "plt.figure(figsize=(15,15))\n",
    "\n",
    "mask = np.triu(np.ones_like(corrMatrix))\n",
    " \n",
    "# plotting a triangle correlation heatmap\n",
    "dataplot = sn.heatmap(corrMatrix, annot=True, mask=mask)\n",
    "plt.show()"
   ]
  },
  {
   "cell_type": "markdown",
   "id": "a4b8f4f9",
   "metadata": {
    "cell_id": "21dd927850f0420ab48c326169f946e6",
    "deepnote_cell_height": 53.46665954589844,
    "deepnote_cell_type": "markdown",
    "tags": []
   },
   "source": [
    "#### Trying   scipy.stats.pearsonr() "
   ]
  },
  {
   "cell_type": "code",
   "execution_count": null,
   "id": "bf6149ca",
   "metadata": {
    "cell_id": "ddbfb7b8c5e847f2ae21bf93130b381e",
    "deepnote_cell_height": 239.06666564941406,
    "deepnote_cell_type": "code",
    "deepnote_to_be_reexecuted": false,
    "execution_millis": 7214136,
    "execution_start": 1656591165892,
    "source_hash": "35fdfa73",
    "tags": []
   },
   "outputs": [
    {
     "name": "stdout",
     "output_type": "stream",
     "text": [
      "The pearson correlation coefficient between META and BRKA is: 0.6619322661756248\n",
      "The p-value is: 2.36161520187054e-174\n"
     ]
    }
   ],
   "source": [
    "import scipy \n",
    "from scipy import stats\n",
    "\n",
    "\n",
    "r, p = scipy.stats.pearsonr( pre_df[\"META\"] , pre_df[\"BRKA\"])\n",
    "print(\"The pearson correlation coefficient between META and BRKA is:\", r)\n",
    "print(\"The p-value is:\", p)"
   ]
  },
  {
   "cell_type": "markdown",
   "id": "993b75b6",
   "metadata": {
    "cell_id": "176f072b34a04e5396a0497e56c48b45",
    "deepnote_cell_height": 51.866668701171875,
    "deepnote_cell_type": "markdown",
    "tags": []
   },
   "source": [
    "It is consistent with value provided in heatmap  META and BRKA"
   ]
  },
  {
   "cell_type": "markdown",
   "id": "a975d076",
   "metadata": {
    "cell_id": "447d65d6d0994986a41cb867a56f94ec",
    "deepnote_cell_height": 682.2666625976562,
    "deepnote_cell_type": "markdown",
    "owner_user_id": "8440e644-281c-4088-8835-41e43fa0809e",
    "tags": []
   },
   "source": [
    "https://support.minitab.com/en-us/minitab-express/1/help-and-how-to/modeling-statistics/regression/how-to/correlation/interpret-the-results/\n",
    "\n",
    "\n",
    "Strength\n",
    "\n",
    "    The correlation coefficient can range in value from −1 to +1. The larger the absolute value of the coefficient, the stronger the relationship between the variables.\n",
    "    For the Pearson correlation, an absolute value of 1 indicates a perfect linear relationship. A correlation close to 0 indicates no linear relationship between the variables.\n",
    "Direction\n",
    "\n",
    "    The sign of the coefficient indicates the direction of the relationship. If both variables tend to increase or decrease together, the coefficient is positive, and the line that represents the correlation slopes upward. If one variable tends to increase as the other decreases, the coefficient is negative, and the line that represents the correlation slopes downward. \n",
    "\n",
    "Is correlation coefficient significant?\n",
    "\n",
    "    An α of 0.05 indicates that the risk of concluding that a correlation exists—when, actually, no correlation exists—is 5%. The p-value tells you whether the correlation coefficient is significantly different from 0. (A coefficient of 0 indicates that there is no linear relationship.) \n",
    "\n",
    "P-value ≤ 0.05: The correlation is statistically significant\n",
    "\n",
    "    If the p-value is less than or equal to the significance level, then you can conclude that the correlation is different from 0. Null hypothesis is false, and reject\n",
    "    \n",
    "P-value > 0.05: The correlation is not statistically significant\n",
    "\n",
    "    If the p-value is greater than the significance level, then you cannot conclude that the correlation is different from 0. Null hypothesis is true, and accept"
   ]
  },
  {
   "cell_type": "code",
   "execution_count": null,
   "id": "c8a97df1",
   "metadata": {
    "cell_id": "2892357971be469e83bd0521eff5d424",
    "deepnote_cell_height": 433.933349609375,
    "deepnote_cell_type": "code",
    "deepnote_output_heights": [
     21,
     250
    ],
    "deepnote_to_be_reexecuted": false,
    "execution_millis": 181,
    "execution_start": 1656591165900,
    "source_hash": "5258d3a2",
    "tags": []
   },
   "outputs": [
    {
     "data": {
      "text/plain": [
       "[<matplotlib.lines.Line2D at 0x7f43d34dfc10>]"
      ]
     },
     "execution_count": 17,
     "metadata": {},
     "output_type": "execute_result"
    },
    {
     "data": {
      "image/png": "[encoded data removed]",
      "text/plain": [
       "<Figure size 432x288 with 1 Axes>"
      ]
     },
     "metadata": {
      "image/png": {
       "height": 248,
       "width": 396
      },
      "needs_background": "light"
     },
     "output_type": "display_data"
    }
   ],
   "source": [
    "plt.plot(df[\"META\"])\n",
    "plt.plot(df[\"BRKA\"])\n",
    "#lol"
   ]
  },
  {
   "cell_type": "markdown",
   "id": "235822bc",
   "metadata": {
    "cell_id": "7f306db6aab14e94a00341f30e3e5ff8",
    "deepnote_cell_height": 51.866668701171875,
    "deepnote_cell_type": "markdown",
    "tags": []
   },
   "source": [
    "Based on half triangle for loop, we extracted Correlation Coefficient and p-val for every relation"
   ]
  },
  {
   "cell_type": "code",
   "execution_count": null,
   "id": "6e5a023f",
   "metadata": {
    "cell_id": "a81e6f0f761e43ecb02ef7846990e5c3",
    "deepnote_cell_height": 880.2000122070312,
    "deepnote_cell_type": "code",
    "deepnote_to_be_reexecuted": false,
    "execution_millis": 1025,
    "execution_start": 1656591166089,
    "source_hash": "f26e1477",
    "tags": []
   },
   "outputs": [
    {
     "name": "stdout",
     "output_type": "stream",
     "text": [
      "AAPL to AAPL\n",
      "The pearson correlation coefficient between AAPL and AAPL is:  0.9999999999999999\n",
      "The p-value is: 0.0\n",
      "MSFT to AAPL\n",
      "The pearson correlation coefficient between MSFT and AAPL is:  0.978530308180468\n",
      "The p-value is: 0.0\n",
      "MSFT to MSFT\n",
      "The pearson correlation coefficient between MSFT and MSFT is:  1.0\n",
      "The p-value is: 0.0\n",
      "GOOG to AAPL\n",
      "The pearson correlation coefficient between GOOG and AAPL is:  0.9570894817773764\n",
      "The p-value is: 0.0\n",
      "GOOG to MSFT\n",
      "The pearson correlation coefficient between GOOG and MSFT is:  0.9657245658287568\n",
      "The p-value is: 0.0\n",
      "GOOG to GOOG\n",
      "The pearson correlation coefficient between GOOG and GOOG is:  1.0\n",
      "The p-value is: 0.0\n",
      "AMZN to AAPL\n",
      "The pearson correlation coefficient between AMZN and AAPL is:  0.9099975549336968\n",
      "The p-value is: 0.0\n",
      "AMZN to MSFT\n",
      "The pearson correlation coefficient between AMZN and MSFT is:  0.9314626671956895\n",
      "The p-value is: 0.0\n",
      "AMZN to GOOG\n",
      "The pearson correlation coefficient between AMZN and GOOG is:  0.8650483316094618\n",
      "The p-value is: 0.0\n",
      "AMZN to AMZN\n",
      "The pearson correlation coefficient between AMZN and AMZN is:  1.0\n",
      "The p-value is: 0.0\n",
      "TSLA to AAPL\n",
      "The pearson correlation coefficient between TSLA and AAPL is:  0.962190458499938\n",
      "The p-value is: 0.0\n",
      "TSLA to MSFT\n",
      "The pearson correlation coefficient between TSLA and MSFT is:  0.930727477865528\n",
      "The p-value is: 0.0\n",
      "TSLA to GOOG\n",
      "The pearson correlation coefficient between TSLA and GOOG is:  0.9464879783670359\n",
      "The p-value is: 0.0\n",
      "TSLA to AMZN\n",
      "The pearson correlation coefficient between TSLA and AMZN is:  0.8360631690793096\n",
      "The p-value is: 0.0\n",
      "TSLA to TSLA\n",
      "The pearson correlation coefficient between TSLA and TSLA is:  1.0\n",
      "The p-value is: 0.0\n",
      "BRKA to AAPL\n",
      "The pearson correlation coefficient between BRKA and AAPL is:  0.8854171880245069\n",
      "The p-value is: 0.0\n",
      "BRKA to MSFT\n",
      "The pearson correlation coefficient between BRKA and MSFT is:  0.8752727704152813\n",
      "The p-value is: 0.0\n",
      "BRKA to GOOG\n",
      "The pearson correlation coefficient between BRKA and GOOG is:  0.9230307259507192\n",
      "The p-value is: 0.0\n",
      "BRKA to AMZN\n",
      "The pearson correlation coefficient between BRKA and AMZN is:  0.740069183717919\n",
      "The p-value is: 3.6929574670203706e-239\n",
      "BRKA to TSLA\n",
      "The pearson correlation coefficient between BRKA and TSLA is:  0.8736933669062794\n",
      "The p-value is: 0.0\n",
      "BRKA to BRKA\n",
      "The pearson correlation coefficient between BRKA and BRKA is:  1.0\n",
      "The p-value is: 0.0\n",
      "JNJ to AAPL\n",
      "The pearson correlation coefficient between JNJ and AAPL is:  0.9105527893295811\n",
      "The p-value is: 0.0\n",
      "JNJ to MSFT\n",
      "The pearson correlation coefficient between JNJ and MSFT is:  0.8974273862826982\n",
      "The p-value is: 0.0\n",
      "JNJ to GOOG\n",
      "The pearson correlation coefficient between JNJ and GOOG is:  0.8992582297548177\n",
      "The p-value is: 0.0\n",
      "JNJ to AMZN\n",
      "The pearson correlation coefficient between JNJ and AMZN is:  0.8052434144755934\n",
      "The p-value is: 2.093184847e-314\n",
      "JNJ to TSLA\n",
      "The pearson correlation coefficient between JNJ and TSLA is:  0.875705535624424\n",
      "The p-value is: 0.0\n",
      "JNJ to BRKA\n",
      "The pearson correlation coefficient between JNJ and BRKA is:  0.894177434534231\n",
      "The p-value is: 0.0\n",
      "JNJ to JNJ\n",
      "The pearson correlation coefficient between JNJ and JNJ is:  0.9999999999999999\n",
      "The p-value is: 0.0\n",
      "UNH to AAPL\n",
      "The pearson correlation coefficient between UNH and AAPL is:  0.9509742303842526\n",
      "The p-value is: 0.0\n",
      "UNH to MSFT\n",
      "The pearson correlation coefficient between UNH and MSFT is:  0.9481517106730136\n",
      "The p-value is: 0.0\n",
      "UNH to GOOG\n",
      "The pearson correlation coefficient between UNH and GOOG is:  0.9465361847492686\n",
      "The p-value is: 0.0\n",
      "UNH to AMZN\n",
      "The pearson correlation coefficient between UNH and AMZN is:  0.843496976890753\n",
      "The p-value is: 0.0\n",
      "UNH to TSLA\n",
      "The pearson correlation coefficient between UNH and TSLA is:  0.9168150979665081\n",
      "The p-value is: 0.0\n",
      "UNH to BRKA\n",
      "The pearson correlation coefficient between UNH and BRKA is:  0.9506118663727797\n",
      "The p-value is: 0.0\n",
      "UNH to JNJ\n",
      "The pearson correlation coefficient between UNH and JNJ is:  0.9243734458810798\n",
      "The p-value is: 0.0\n",
      "UNH to UNH\n",
      "The pearson correlation coefficient between UNH and UNH is:  1.0\n",
      "The p-value is: 0.0\n",
      "META to AAPL\n",
      "The pearson correlation coefficient between META and AAPL is:  0.8252377133475339\n",
      "The p-value is: 0.0\n",
      "META to MSFT\n",
      "The pearson correlation coefficient between META and MSFT is:  0.8507334470846658\n",
      "The p-value is: 0.0\n",
      "META to GOOG\n",
      "The pearson correlation coefficient between META and GOOG is:  0.8492162967145698\n",
      "The p-value is: 0.0\n",
      "META to AMZN\n",
      "The pearson correlation coefficient between META and AMZN is:  0.8867044642251886\n",
      "The p-value is: 0.0\n",
      "META to TSLA\n",
      "The pearson correlation coefficient between META and TSLA is:  0.7802524600687515\n",
      "The p-value is: 1.656278900128974e-282\n",
      "META to BRKA\n",
      "The pearson correlation coefficient between META and BRKA is:  0.6619322661756248\n",
      "The p-value is: 2.36161520187054e-174\n",
      "META to JNJ\n",
      "The pearson correlation coefficient between META and JNJ is:  0.7348902343687802\n",
      "The p-value is: 3.7231215315335663e-234\n",
      "META to UNH\n",
      "The pearson correlation coefficient between META and UNH is:  0.7264165901656606\n",
      "The p-value is: 3.2214498622499046e-226\n",
      "META to META\n",
      "The pearson correlation coefficient between META and META is:  1.0\n",
      "The p-value is: 0.0\n",
      "NVDA to AAPL\n",
      "The pearson correlation coefficient between NVDA and AAPL is:  0.9516956210905596\n",
      "The p-value is: 0.0\n",
      "NVDA to MSFT\n",
      "The pearson correlation coefficient between NVDA and MSFT is:  0.9415531918021338\n",
      "The p-value is: 0.0\n",
      "NVDA to GOOG\n",
      "The pearson correlation coefficient between NVDA and GOOG is:  0.9655489018767287\n",
      "The p-value is: 0.0\n",
      "NVDA to AMZN\n",
      "The pearson correlation coefficient between NVDA and AMZN is:  0.8389594023268494\n",
      "The p-value is: 0.0\n",
      "NVDA to TSLA\n",
      "The pearson correlation coefficient between NVDA and TSLA is:  0.9580873576118359\n",
      "The p-value is: 0.0\n",
      "NVDA to BRKA\n",
      "The pearson correlation coefficient between NVDA and BRKA is:  0.8804418951568271\n",
      "The p-value is: 0.0\n",
      "NVDA to JNJ\n",
      "The pearson correlation coefficient between NVDA and JNJ is:  0.8507081800838017\n",
      "The p-value is: 0.0\n",
      "NVDA to UNH\n",
      "The pearson correlation coefficient between NVDA and UNH is:  0.9282491521149865\n",
      "The p-value is: 0.0\n",
      "NVDA to META\n",
      "The pearson correlation coefficient between NVDA and META is:  0.8047404780874401\n",
      "The p-value is: 1.01843125e-313\n",
      "NVDA to NVDA\n",
      "The pearson correlation coefficient between NVDA and NVDA is:  1.0\n",
      "The p-value is: 0.0\n",
      "V to AAPL\n",
      "The pearson correlation coefficient between V and AAPL is:  0.8670822801167828\n",
      "The p-value is: 0.0\n",
      "V to MSFT\n",
      "The pearson correlation coefficient between V and MSFT is:  0.9155445578449812\n",
      "The p-value is: 0.0\n",
      "V to GOOG\n",
      "The pearson correlation coefficient between V and GOOG is:  0.8368974002124\n",
      "The p-value is: 0.0\n",
      "V to AMZN\n",
      "The pearson correlation coefficient between V and AMZN is:  0.9297858618548194\n",
      "The p-value is: 0.0\n",
      "V to TSLA\n",
      "The pearson correlation coefficient between V and TSLA is:  0.7524643498470762\n",
      "The p-value is: 1.2324193936713532e-251\n",
      "V to BRKA\n",
      "The pearson correlation coefficient between V and BRKA is:  0.776669460363268\n",
      "The p-value is: 2.8096917120334903e-278\n",
      "V to JNJ\n",
      "The pearson correlation coefficient between V and JNJ is:  0.8173193426408955\n",
      "The p-value is: 0.0\n",
      "V to UNH\n",
      "The pearson correlation coefficient between V and UNH is:  0.8442487043807738\n",
      "The p-value is: 0.0\n",
      "V to META\n",
      "The pearson correlation coefficient between V and META is:  0.8196603714338138\n",
      "The p-value is: 0.0\n",
      "V to NVDA\n",
      "The pearson correlation coefficient between V and NVDA is:  0.7538512294704427\n",
      "The p-value is: 4.4524623869985393e-253\n",
      "V to V\n",
      "The pearson correlation coefficient between V and V is:  1.0\n",
      "The p-value is: 0.0\n",
      "XOM to AAPL\n",
      "The pearson correlation coefficient between XOM and AAPL is:  -0.42042142284943235\n",
      "The p-value is: 4.3065111777404415e-60\n",
      "XOM to MSFT\n",
      "The pearson correlation coefficient between XOM and MSFT is:  -0.46110343203503057\n",
      "The p-value is: 1.976452793731917e-73\n",
      "XOM to GOOG\n",
      "The pearson correlation coefficient between XOM and GOOG is:  -0.29167919636155776\n",
      "The p-value is: 2.072199572075915e-28\n",
      "XOM to AMZN\n",
      "The pearson correlation coefficient between XOM and AMZN is:  -0.6427897058031171\n",
      "The p-value is: 2.355195558304904e-161\n",
      "XOM to TSLA\n",
      "The pearson correlation coefficient between XOM and TSLA is:  -0.3058027017076939\n",
      "The p-value is: 3.385279140807175e-31\n",
      "XOM to BRKA\n",
      "The pearson correlation coefficient between XOM and BRKA is:  -0.05502558130885048\n",
      "The p-value is: 0.04119330447532443\n",
      "XOM to JNJ\n",
      "The pearson correlation coefficient between XOM and JNJ is:  -0.2670620118271266\n",
      "The p-value is: 6.446757987979865e-24\n",
      "XOM to UNH\n",
      "The pearson correlation coefficient between XOM and UNH is:  -0.2462036333276182\n",
      "The p-value is: 1.8461063142204704e-20\n",
      "XOM to META\n",
      "The pearson correlation coefficient between XOM and META is:  -0.5700495567203456\n",
      "The p-value is: 1.7447393115076357e-119\n",
      "XOM to NVDA\n",
      "The pearson correlation coefficient between XOM and NVDA is:  -0.2885704225873581\n",
      "The p-value is: 8.111559544425393e-28\n",
      "XOM to V\n",
      "The pearson correlation coefficient between XOM and V is:  -0.5676361035569419\n",
      "The p-value is: 2.854766673254217e-118\n",
      "XOM to XOM\n",
      "The pearson correlation coefficient between XOM and XOM is:  1.0\n",
      "The p-value is: 0.0\n",
      "PG to AAPL\n",
      "The pearson correlation coefficient between PG and AAPL is:  0.91607379944885\n",
      "The p-value is: 0.0\n",
      "PG to MSFT\n",
      "The pearson correlation coefficient between PG and MSFT is:  0.9278003300594575\n",
      "The p-value is: 0.0\n",
      "PG to GOOG\n",
      "The pearson correlation coefficient between PG and GOOG is:  0.8520852461748374\n",
      "The p-value is: 0.0\n",
      "PG to AMZN\n",
      "The pearson correlation coefficient between PG and AMZN is:  0.8430125759746488\n",
      "The p-value is: 0.0\n",
      "PG to TSLA\n",
      "The pearson correlation coefficient between PG and TSLA is:  0.839825191826871\n",
      "The p-value is: 0.0\n",
      "PG to BRKA\n",
      "The pearson correlation coefficient between PG and BRKA is:  0.796793734634375\n",
      "The p-value is: 4.031478053596781e-303\n",
      "PG to JNJ\n",
      "The pearson correlation coefficient between PG and JNJ is:  0.839123931632567\n",
      "The p-value is: 0.0\n",
      "PG to UNH\n",
      "The pearson correlation coefficient between PG and UNH is:  0.8607616753015511\n",
      "The p-value is: 0.0\n",
      "PG to META\n",
      "The pearson correlation coefficient between PG and META is:  0.7473873152378038\n",
      "The p-value is: 1.9471269894927032e-246\n",
      "PG to NVDA\n",
      "The pearson correlation coefficient between PG and NVDA is:  0.8192596934806647\n",
      "The p-value is: 0.0\n",
      "PG to V\n",
      "The pearson correlation coefficient between PG and V is:  0.8905331812187447\n",
      "The p-value is: 0.0\n",
      "PG to XOM\n",
      "The pearson correlation coefficient between PG and XOM is:  -0.4944656477172717\n",
      "The p-value is: 8.419244049159284e-86\n",
      "PG to PG\n",
      "The pearson correlation coefficient between PG and PG is:  1.0\n",
      "The p-value is: 0.0\n",
      "JPM to AAPL\n",
      "The pearson correlation coefficient between JPM and AAPL is:  0.7636571223362176\n",
      "The p-value is: 1.4784298659699851e-263\n",
      "JPM to MSFT\n",
      "The pearson correlation coefficient between JPM and MSFT is:  0.7993964631046117\n",
      "The p-value is: 1.5390946872578216e-306\n",
      "JPM to GOOG\n",
      "The pearson correlation coefficient between JPM and GOOG is:  0.8644915799929789\n",
      "The p-value is: 0.0\n",
      "JPM to AMZN\n",
      "The pearson correlation coefficient between JPM and AMZN is:  0.7271400807912071\n",
      "The p-value is: 6.951617931624999e-227\n",
      "JPM to TSLA\n",
      "The pearson correlation coefficient between JPM and TSLA is:  0.7622160176619075\n",
      "The p-value is: 5.515707210108361e-262\n",
      "JPM to BRKA\n",
      "The pearson correlation coefficient between JPM and BRKA is:  0.8448166424096049\n",
      "The p-value is: 0.0\n",
      "JPM to JNJ\n",
      "The pearson correlation coefficient between JPM and JNJ is:  0.7508695672266045\n",
      "The p-value is: 5.461324090723625e-250\n",
      "JPM to UNH\n",
      "The pearson correlation coefficient between JPM and UNH is:  0.7804872063725726\n",
      "The p-value is: 8.69449043228763e-283\n",
      "JPM to META\n",
      "The pearson correlation coefficient between JPM and META is:  0.7890948683844948\n",
      "The p-value is: 2.696155790597055e-293\n",
      "JPM to NVDA\n",
      "The pearson correlation coefficient between JPM and NVDA is:  0.7747547858440494\n",
      "The p-value is: 4.749646591236951e-276\n",
      "JPM to V\n",
      "The pearson correlation coefficient between JPM and V is:  0.7729236100904666\n",
      "The p-value is: 6.123350680582072e-274\n",
      "JPM to XOM\n",
      "The pearson correlation coefficient between JPM and XOM is:  -0.17000079742488758\n",
      "The p-value is: 2.1683290548269557e-10\n",
      "JPM to PG\n",
      "The pearson correlation coefficient between JPM and PG is:  0.6720677136965185\n",
      "The p-value is: 1.2404114625960115e-181\n",
      "JPM to JPM\n",
      "The pearson correlation coefficient between JPM and JPM is:  0.9999999999999999\n",
      "The p-value is: 0.0\n",
      "WMT to AAPL\n",
      "The pearson correlation coefficient between WMT and AAPL is:  0.8984364627407734\n",
      "The p-value is: 0.0\n",
      "WMT to MSFT\n",
      "The pearson correlation coefficient between WMT and MSFT is:  0.9228795306181405\n",
      "The p-value is: 0.0\n",
      "WMT to GOOG\n",
      "The pearson correlation coefficient between WMT and GOOG is:  0.8373075088100498\n",
      "The p-value is: 0.0\n",
      "WMT to AMZN\n",
      "The pearson correlation coefficient between WMT and AMZN is:  0.930287591251194\n",
      "The p-value is: 0.0\n",
      "WMT to TSLA\n",
      "The pearson correlation coefficient between WMT and TSLA is:  0.8111145469011649\n",
      "The p-value is: 1.4e-322\n",
      "WMT to BRKA\n",
      "The pearson correlation coefficient between WMT and BRKA is:  0.7708173959951903\n",
      "The p-value is: 1.5484627190334473e-271\n",
      "WMT to JNJ\n",
      "The pearson correlation coefficient between WMT and JNJ is:  0.8435425025154789\n",
      "The p-value is: 0.0\n",
      "WMT to UNH\n",
      "The pearson correlation coefficient between WMT and UNH is:  0.8536659453898263\n",
      "The p-value is: 0.0\n",
      "WMT to META\n",
      "The pearson correlation coefficient between WMT and META is:  0.8100379442842222\n",
      "The p-value is: 4.654e-321\n",
      "WMT to NVDA\n",
      "The pearson correlation coefficient between WMT and NVDA is:  0.7946553876918648\n",
      "The p-value is: 2.3801706022711405e-300\n",
      "WMT to V\n",
      "The pearson correlation coefficient between WMT and V is:  0.9441413561266995\n",
      "The p-value is: 0.0\n",
      "WMT to XOM\n",
      "The pearson correlation coefficient between WMT and XOM is:  -0.6164661304911592\n",
      "The p-value is: 6.264557517590039e-145\n",
      "WMT to PG\n",
      "The pearson correlation coefficient between WMT and PG is:  0.9221754896756017\n",
      "The p-value is: 0.0\n",
      "WMT to JPM\n",
      "The pearson correlation coefficient between WMT and JPM is:  0.7079016737144278\n",
      "The p-value is: 7.110122362843406e-210\n",
      "WMT to WMT\n",
      "The pearson correlation coefficient between WMT and WMT is:  0.9999999999999997\n",
      "The p-value is: 0.0\n",
      "MA to AAPL\n",
      "The pearson correlation coefficient between MA and AAPL is:  0.8785730103616958\n",
      "The p-value is: 0.0\n",
      "MA to MSFT\n",
      "The pearson correlation coefficient between MA and MSFT is:  0.9197026682949836\n",
      "The p-value is: 0.0\n",
      "MA to GOOG\n",
      "The pearson correlation coefficient between MA and GOOG is:  0.8332863167012737\n",
      "The p-value is: 0.0\n",
      "MA to AMZN\n",
      "The pearson correlation coefficient between MA and AMZN is:  0.9291083927460634\n",
      "The p-value is: 0.0\n",
      "MA to TSLA\n",
      "The pearson correlation coefficient between MA and TSLA is:  0.7679811358836741\n",
      "The p-value is: 2.428145907021161e-268\n",
      "MA to BRKA\n",
      "The pearson correlation coefficient between MA and BRKA is:  0.7838996650943933\n",
      "The p-value is: 6.776931094951108e-287\n",
      "MA to JNJ\n",
      "The pearson correlation coefficient between MA and JNJ is:  0.8182270035513097\n",
      "The p-value is: 0.0\n",
      "MA to UNH\n",
      "The pearson correlation coefficient between MA and UNH is:  0.8537942160350805\n",
      "The p-value is: 0.0\n",
      "MA to META\n",
      "The pearson correlation coefficient between MA and META is:  0.8028351106909704\n",
      "The p-value is: 3.9174235702007e-311\n",
      "MA to NVDA\n",
      "The pearson correlation coefficient between MA and NVDA is:  0.7609118700023882\n",
      "The p-value is: 1.4269089132417953e-260\n",
      "MA to V\n",
      "The pearson correlation coefficient between MA and V is:  0.9944932936050397\n",
      "The p-value is: 0.0\n",
      "MA to XOM\n",
      "The pearson correlation coefficient between MA and XOM is:  -0.5621725395394975\n",
      "The p-value is: 1.4677688727735912e-115\n",
      "MA to PG\n",
      "The pearson correlation coefficient between MA and PG is:  0.9033367306965631\n",
      "The p-value is: 0.0\n",
      "MA to JPM\n",
      "The pearson correlation coefficient between MA and JPM is:  0.7611519921710596\n",
      "The p-value is: 7.851489626547061e-261\n",
      "MA to WMT\n",
      "The pearson correlation coefficient between MA and WMT is:  0.9453972475412458\n",
      "The p-value is: 0.0\n",
      "MA to MA\n",
      "The pearson correlation coefficient between MA and MA is:  0.9999999999999997\n",
      "The p-value is: 0.0\n",
      "LLY to AAPL\n",
      "The pearson correlation coefficient between LLY and AAPL is:  0.9403089922486807\n",
      "The p-value is: 0.0\n",
      "LLY to MSFT\n",
      "The pearson correlation coefficient between LLY and MSFT is:  0.9466209908058917\n",
      "The p-value is: 0.0\n",
      "LLY to GOOG\n",
      "The pearson correlation coefficient between LLY and GOOG is:  0.9408461267195158\n",
      "The p-value is: 0.0\n",
      "LLY to AMZN\n",
      "The pearson correlation coefficient between LLY and AMZN is:  0.8128786783655404\n",
      "The p-value is: 0.0\n",
      "LLY to TSLA\n",
      "The pearson correlation coefficient between LLY and TSLA is:  0.9169567894495576\n",
      "The p-value is: 0.0\n",
      "LLY to BRKA\n",
      "The pearson correlation coefficient between LLY and BRKA is:  0.9101857858091279\n",
      "The p-value is: 0.0\n",
      "LLY to JNJ\n",
      "The pearson correlation coefficient between LLY and JNJ is:  0.9275962316322784\n",
      "The p-value is: 0.0\n",
      "LLY to UNH\n",
      "The pearson correlation coefficient between LLY and UNH is:  0.9610676084360208\n",
      "The p-value is: 0.0\n",
      "LLY to META\n",
      "The pearson correlation coefficient between LLY and META is:  0.7072496238697273\n",
      "The p-value is: 2.5353187779185066e-209\n",
      "LLY to NVDA\n",
      "The pearson correlation coefficient between LLY and NVDA is:  0.9091214159818637\n",
      "The p-value is: 0.0\n",
      "LLY to V\n",
      "The pearson correlation coefficient between LLY and V is:  0.8224906442753549\n",
      "The p-value is: 0.0\n",
      "LLY to XOM\n",
      "The pearson correlation coefficient between LLY and XOM is:  -0.25536565326713395\n",
      "The p-value is: 6.116970705701248e-22\n",
      "LLY to PG\n",
      "The pearson correlation coefficient between LLY and PG is:  0.8751891797474941\n",
      "The p-value is: 0.0\n",
      "LLY to JPM\n",
      "The pearson correlation coefficient between LLY and JPM is:  0.7337280975043059\n",
      "The p-value is: 4.758890195641559e-233\n",
      "LLY to WMT\n",
      "The pearson correlation coefficient between LLY and WMT is:  0.8301591261971332\n",
      "The p-value is: 0.0\n",
      "LLY to MA\n",
      "The pearson correlation coefficient between LLY and MA is:  0.828034350695713\n",
      "The p-value is: 0.0\n",
      "LLY to LLY\n",
      "The pearson correlation coefficient between LLY and LLY is:  0.9999999999999999\n",
      "The p-value is: 0.0\n",
      "HD to AAPL\n",
      "The pearson correlation coefficient between HD and AAPL is:  0.9535794082230241\n",
      "The p-value is: 0.0\n",
      "HD to MSFT\n",
      "The pearson correlation coefficient between HD and MSFT is:  0.9746501905046735\n",
      "The p-value is: 0.0\n",
      "HD to GOOG\n",
      "The pearson correlation coefficient between HD and GOOG is:  0.9536936514641904\n",
      "The p-value is: 0.0\n",
      "HD to AMZN\n",
      "The pearson correlation coefficient between HD and AMZN is:  0.9184601914405421\n",
      "The p-value is: 0.0\n",
      "HD to TSLA\n",
      "The pearson correlation coefficient between HD and TSLA is:  0.9088814025598682\n",
      "The p-value is: 0.0\n",
      "HD to BRKA\n",
      "The pearson correlation coefficient between HD and BRKA is:  0.8642231628151198\n",
      "The p-value is: 0.0\n",
      "HD to JNJ\n",
      "The pearson correlation coefficient between HD and JNJ is:  0.85828878911949\n",
      "The p-value is: 0.0\n",
      "HD to UNH\n",
      "The pearson correlation coefficient between HD and UNH is:  0.923377752927792\n",
      "The p-value is: 0.0\n",
      "HD to META\n",
      "The pearson correlation coefficient between HD and META is:  0.8777971768379971\n",
      "The p-value is: 0.0\n",
      "HD to NVDA\n",
      "The pearson correlation coefficient between HD and NVDA is:  0.939848330123334\n",
      "The p-value is: 0.0\n",
      "HD to V\n",
      "The pearson correlation coefficient between HD and V is:  0.892870061358334\n",
      "The p-value is: 0.0\n",
      "HD to XOM\n",
      "The pearson correlation coefficient between HD and XOM is:  -0.42720487160405946\n",
      "The p-value is: 3.424098372942282e-62\n",
      "HD to PG\n",
      "The pearson correlation coefficient between HD and PG is:  0.8956197944828537\n",
      "The p-value is: 0.0\n",
      "HD to JPM\n",
      "The pearson correlation coefficient between HD and JPM is:  0.8324372570699793\n",
      "The p-value is: 0.0\n",
      "HD to WMT\n",
      "The pearson correlation coefficient between HD and WMT is:  0.8975762359915512\n",
      "The p-value is: 0.0\n",
      "HD to MA\n",
      "The pearson correlation coefficient between HD and MA is:  0.8981976812993742\n",
      "The p-value is: 0.0\n",
      "HD to LLY\n",
      "The pearson correlation coefficient between HD and LLY is:  0.8904053448467923\n",
      "The p-value is: 0.0\n",
      "HD to HD\n",
      "The pearson correlation coefficient between HD and HD is:  1.0\n",
      "The p-value is: 0.0\n",
      "PFE to AAPL\n",
      "The pearson correlation coefficient between PFE and AAPL is:  0.7003088811953045\n",
      "The p-value is: 1.5426210175966132e-203\n",
      "PFE to MSFT\n",
      "The pearson correlation coefficient between PFE and MSFT is:  0.70746963905779\n",
      "The p-value is: 1.6515607390444657e-209\n",
      "PFE to GOOG\n",
      "The pearson correlation coefficient between PFE and GOOG is:  0.7503329833359986\n",
      "The p-value is: 1.9430416451040185e-249\n",
      "PFE to AMZN\n",
      "The pearson correlation coefficient between PFE and AMZN is:  0.5452278982874816\n",
      "The p-value is: 1.8239315443921067e-107\n",
      "PFE to TSLA\n",
      "The pearson correlation coefficient between PFE and TSLA is:  0.7045372495060563\n",
      "The p-value is: 4.837087092553362e-207\n",
      "PFE to BRKA\n",
      "The pearson correlation coefficient between PFE and BRKA is:  0.8408482754238263\n",
      "The p-value is: 0.0\n",
      "PFE to JNJ\n",
      "The pearson correlation coefficient between PFE and JNJ is:  0.7306138469293367\n",
      "The p-value is: 4.114941732513641e-230\n",
      "PFE to UNH\n",
      "The pearson correlation coefficient between PFE and UNH is:  0.8245794308614356\n",
      "The p-value is: 0.0\n",
      "PFE to META\n",
      "The pearson correlation coefficient between PFE and META is:  0.4487458390083288\n",
      "The p-value is: 3.475553039332173e-69\n",
      "PFE to NVDA\n",
      "The pearson correlation coefficient between PFE and NVDA is:  0.7638512227338417\n",
      "The p-value is: 9.062262887838705e-264\n",
      "PFE to V\n",
      "The pearson correlation coefficient between PFE and V is:  0.5620874093794288\n",
      "The p-value is: 1.616221472272022e-115\n",
      "PFE to XOM\n",
      "The pearson correlation coefficient between PFE and XOM is:  0.12167481624812641\n",
      "The p-value is: 5.959107557045207e-06\n",
      "PFE to PG\n",
      "The pearson correlation coefficient between PFE and PG is:  0.6245847171218405\n",
      "The p-value is: 7.924394698154528e-150\n",
      "PFE to JPM\n",
      "The pearson correlation coefficient between PFE and JPM is:  0.632329344373551\n",
      "The p-value is: 1.2293911833989954e-154\n",
      "PFE to WMT\n",
      "The pearson correlation coefficient between PFE and WMT is:  0.5585549998191498\n",
      "The p-value is: 8.591744928129617e-114\n",
      "PFE to MA\n",
      "The pearson correlation coefficient between PFE and MA is:  0.5695973966858067\n",
      "The p-value is: 2.950594150034669e-119\n",
      "PFE to LLY\n",
      "The pearson correlation coefficient between PFE and LLY is:  0.7898781838254089\n",
      "The p-value is: 2.8184566148918905e-294\n",
      "PFE to HD\n",
      "The pearson correlation coefficient between PFE and HD is:  0.7118704647753846\n",
      "The p-value is: 2.8697447164144956e-213\n",
      "PFE to PFE\n",
      "The pearson correlation coefficient between PFE and PFE is:  1.0\n",
      "The p-value is: 0.0\n",
      "CVX to AAPL\n",
      "The pearson correlation coefficient between CVX and AAPL is:  0.048409229445690004\n",
      "The p-value is: 0.07252811323735445\n",
      "CVX to MSFT\n",
      "The pearson correlation coefficient between CVX and MSFT is:  0.02325113643690605\n",
      "The p-value is: 0.3886132245884484\n",
      "CVX to GOOG\n",
      "The pearson correlation coefficient between CVX and GOOG is:  0.13575632725838913\n",
      "The p-value is: 4.2704423801439767e-07\n",
      "CVX to AMZN\n",
      "The pearson correlation coefficient between CVX and AMZN is:  -0.20202170758238247\n",
      "The p-value is: 3.791147213784318e-14\n",
      "CVX to TSLA\n",
      "The pearson correlation coefficient between CVX and TSLA is:  0.10656438394747329\n",
      "The p-value is: 7.429925813292269e-05\n",
      "CVX to BRKA\n",
      "The pearson correlation coefficient between CVX and BRKA is:  0.4170655548772876\n",
      "The p-value is: 4.520239266057364e-59\n",
      "CVX to JNJ\n",
      "The pearson correlation coefficient between CVX and JNJ is:  0.177625104673953\n",
      "The p-value is: 3.1759979952377445e-11\n",
      "CVX to UNH\n",
      "The pearson correlation coefficient between CVX and UNH is:  0.2639877370035028\n",
      "The p-value is: 2.181231476936507e-23\n",
      "CVX to META\n",
      "The pearson correlation coefficient between CVX and META is:  -0.268198502901184\n",
      "The p-value is: 4.091564346149925e-24\n",
      "CVX to NVDA\n",
      "The pearson correlation coefficient between CVX and NVDA is:  0.12607629444197016\n",
      "The p-value is: 2.69331125964284e-06\n",
      "CVX to V\n",
      "The pearson correlation coefficient between CVX and V is:  -0.06952028906546269\n",
      "The p-value is: 0.009864729235735375\n",
      "CVX to XOM\n",
      "The pearson correlation coefficient between CVX and XOM is:  0.8065048107404769\n",
      "The p-value is: 3.8776922e-316\n",
      "CVX to PG\n",
      "The pearson correlation coefficient between CVX and PG is:  -0.0045824551683039715\n",
      "The p-value is: 0.865095084309744\n",
      "CVX to JPM\n",
      "The pearson correlation coefficient between CVX and JPM is:  0.17160551823090514\n",
      "The p-value is: 1.4575836480435798e-10\n",
      "CVX to WMT\n",
      "The pearson correlation coefficient between CVX and WMT is:  -0.1144422182555189\n",
      "The p-value is: 2.073254856030524e-05\n",
      "CVX to MA\n",
      "The pearson correlation coefficient between CVX and MA is:  -0.05142908827653811\n",
      "The p-value is: 0.05639669726888413\n",
      "CVX to LLY\n",
      "The pearson correlation coefficient between CVX and LLY is:  0.22639506945688803\n",
      "The p-value is: 1.8304415851730694e-17\n",
      "CVX to HD\n",
      "The pearson correlation coefficient between CVX and HD is:  0.03264274219656367\n",
      "The p-value is: 0.2260764268853488\n",
      "CVX to PFE\n",
      "The pearson correlation coefficient between CVX and PFE is:  0.5147887238494612\n",
      "The p-value is: 4.894829806338875e-94\n",
      "CVX to CVX\n",
      "The pearson correlation coefficient between CVX and CVX is:  0.9999999999999999\n",
      "The p-value is: 0.0\n"
     ]
    }
   ],
   "source": [
    "upper = len(cols)\n",
    "pc = [[]]\n",
    "for i in range(upper):\n",
    "    for j in range(i+1):\n",
    "        r, p = scipy.stats.pearsonr( pre_df[cols[i]] , pre_df[cols[j]])\n",
    "        print(cols[i] + \" to \" + cols[j])\n",
    "\n",
    "        print(\"The pearson correlation coefficient between \" + cols[i] + \" and \" + cols[j] + \" is: \", r)\n",
    "        print(\"The p-value is:\", p)\n",
    "        #added abs fun for corr coefficient\n",
    "        pc.append([(cols[i] + \" - \" + cols[j]), abs(r), p])"
   ]
  },
  {
   "cell_type": "markdown",
   "id": "84b54b93",
   "metadata": {
    "cell_id": "6e750a17945c48b790655772d2e31779",
    "deepnote_cell_height": 51.866668701171875,
    "deepnote_cell_type": "markdown",
    "tags": []
   },
   "source": [
    "Format the list to dataframe so we can apply sort"
   ]
  },
  {
   "cell_type": "code",
   "execution_count": null,
   "id": "0cd9ce9b",
   "metadata": {
    "cell_id": "c921af0830524fc9815a712d3a5e0cf1",
    "deepnote_cell_height": 684.933349609375,
    "deepnote_cell_type": "code",
    "deepnote_table_loading": false,
    "deepnote_table_state": {
     "filters": [],
     "pageIndex": 0,
     "pageSize": 10,
     "sortBy": [
      {
       "id": "Corr Coef",
       "type": "asc"
      }
     ]
    },
    "deepnote_to_be_reexecuted": false,
    "execution_millis": 650,
    "execution_start": 1656591166471,
    "source_hash": "f226f242",
    "tags": []
   },
   "outputs": [
    {
     "data": {
      "application/vnd.deepnote.dataframe.v3+json": {
       "column_count": 3,
       "columns": [
        {
         "dtype": "object",
         "name": "Comparison",
         "stats": {
          "categories": [
           {
            "count": 1,
            "name": "CVX - PG"
           },
           {
            "count": 209,
            "name": "209 others"
           },
           {
            "count": 1,
            "name": "Missing"
           }
          ],
          "nan_count": 1,
          "unique_count": 210
         }
        },
        {
         "dtype": "float64",
         "name": "Corr Coef",
         "stats": {
          "histogram": [
           {
            "bin_end": 0.10412420965147356,
            "bin_start": 0.0045824551683039715,
            "count": 7
           },
           {
            "bin_end": 0.20366596413464316,
            "bin_start": 0.10412420965147356,
            "count": 9
           },
           {
            "bin_end": 0.30320771861781276,
            "bin_start": 0.20366596413464316,
            "count": 8
           },
           {
            "bin_end": 0.40274947310098236,
            "bin_start": 0.30320771861781276,
            "count": 1
           },
           {
            "bin_end": 0.502291227584152,
            "bin_start": 0.40274947310098236,
            "count": 6
           },
           {
            "bin_end": 0.6018329820673216,
            "bin_start": 0.502291227584152,
            "count": 8
           },
           {
            "bin_end": 0.7013747365504912,
            "bin_start": 0.6018329820673216,
            "count": 7
           },
           {
            "bin_end": 0.8009164910336608,
            "bin_start": 0.7013747365504912,
            "count": 34
           },
           {
            "bin_end": 0.9004582455168304,
            "bin_start": 0.8009164910336608,
            "count": 61
           },
           {
            "bin_end": 1,
            "bin_start": 0.9004582455168304,
            "count": 69
           }
          ],
          "max": "1.0",
          "min": "0.0045824551683039715",
          "nan_count": 1,
          "unique_count": 193
         }
        },
        {
         "dtype": "float64",
         "name": "p-val",
         "stats": {
          "histogram": [
           {
            "bin_end": 0.08650950843097441,
            "bin_start": 0,
            "count": 207
           },
           {
            "bin_end": 0.17301901686194882,
            "bin_start": 0.08650950843097441,
            "count": 0
           },
           {
            "bin_end": 0.25952852529292325,
            "bin_start": 0.17301901686194882,
            "count": 1
           },
           {
            "bin_end": 0.34603803372389763,
            "bin_start": 0.25952852529292325,
            "count": 0
           },
           {
            "bin_end": 0.432547542154872,
            "bin_start": 0.34603803372389763,
            "count": 1
           },
           {
            "bin_end": 0.5190570505858465,
            "bin_start": 0.432547542154872,
            "count": 0
           },
           {
            "bin_end": 0.6055665590168209,
            "bin_start": 0.5190570505858465,
            "count": 0
           },
           {
            "bin_end": 0.6920760674477953,
            "bin_start": 0.6055665590168209,
            "count": 0
           },
           {
            "bin_end": 0.7785855758787696,
            "bin_start": 0.6920760674477953,
            "count": 0
           },
           {
            "bin_end": 0.865095084309744,
            "bin_start": 0.7785855758787696,
            "count": 1
           }
          ],
          "max": "0.865095084309744",
          "min": "0.0",
          "nan_count": 1,
          "unique_count": 87
         }
        },
        {
         "dtype": "int64",
         "name": "_deepnote_index_column"
        }
       ],
       "row_count": 211,
       "rows": [
        {
         "Comparison": "CVX - PG",
         "Corr Coef": 0.0045824551683039715,
         "_deepnote_index_column": 203,
         "p-val": 0.865095084309744
        },
        {
         "Comparison": "CVX - MSFT",
         "Corr Coef": 0.02325113643690605,
         "_deepnote_index_column": 192,
         "p-val": 0.3886132245884484
        },
        {
         "Comparison": "CVX - HD",
         "Corr Coef": 0.03264274219656367,
         "_deepnote_index_column": 208,
         "p-val": 0.2260764268853488
        },
        {
         "Comparison": "CVX - AAPL",
         "Corr Coef": 0.048409229445690004,
         "_deepnote_index_column": 191,
         "p-val": 0.07252811323735445
        },
        {
         "Comparison": "CVX - MA",
         "Corr Coef": 0.05142908827653811,
         "_deepnote_index_column": 206,
         "p-val": 0.05639669726888413
        },
        {
         "Comparison": "XOM - BRKA",
         "Corr Coef": 0.05502558130885048,
         "_deepnote_index_column": 72,
         "p-val": 0.04119330447532443
        },
        {
         "Comparison": "CVX - V",
         "Corr Coef": 0.06952028906546269,
         "_deepnote_index_column": 201,
         "p-val": 0.009864729235735375
        },
        {
         "Comparison": "CVX - TSLA",
         "Corr Coef": 0.10656438394747329,
         "_deepnote_index_column": 195,
         "p-val": 7.429925813292269e-05
        },
        {
         "Comparison": "CVX - WMT",
         "Corr Coef": 0.1144422182555189,
         "_deepnote_index_column": 205,
         "p-val": 2.073254856030524e-05
        },
        {
         "Comparison": "PFE - XOM",
         "Corr Coef": 0.12167481624812641,
         "_deepnote_index_column": 183,
         "p-val": 5.959107557045207e-06
        }
       ]
      },
      "text/html": [
       "<div>\n",
       "<style scoped>\n",
       "    .dataframe tbody tr th:only-of-type {\n",
       "        vertical-align: middle;\n",
       "    }\n",
       "\n",
       "    .dataframe tbody tr th {\n",
       "        vertical-align: top;\n",
       "    }\n",
       "\n",
       "    .dataframe thead th {\n",
       "        text-align: right;\n",
       "    }\n",
       "</style>\n",
       "<table border=\"1\" class=\"dataframe\">\n",
       "  <thead>\n",
       "    <tr style=\"text-align: right;\">\n",
       "      <th></th>\n",
       "      <th>Comparison</th>\n",
       "      <th>Corr Coef</th>\n",
       "      <th>p-val</th>\n",
       "    </tr>\n",
       "  </thead>\n",
       "  <tbody>\n",
       "    <tr>\n",
       "      <th>0</th>\n",
       "      <td>None</td>\n",
       "      <td>NaN</td>\n",
       "      <td>NaN</td>\n",
       "    </tr>\n",
       "    <tr>\n",
       "      <th>1</th>\n",
       "      <td>AAPL - AAPL</td>\n",
       "      <td>1.000000</td>\n",
       "      <td>0.000000e+00</td>\n",
       "    </tr>\n",
       "    <tr>\n",
       "      <th>2</th>\n",
       "      <td>MSFT - AAPL</td>\n",
       "      <td>0.978530</td>\n",
       "      <td>0.000000e+00</td>\n",
       "    </tr>\n",
       "    <tr>\n",
       "      <th>3</th>\n",
       "      <td>MSFT - MSFT</td>\n",
       "      <td>1.000000</td>\n",
       "      <td>0.000000e+00</td>\n",
       "    </tr>\n",
       "    <tr>\n",
       "      <th>4</th>\n",
       "      <td>GOOG - AAPL</td>\n",
       "      <td>0.957089</td>\n",
       "      <td>0.000000e+00</td>\n",
       "    </tr>\n",
       "    <tr>\n",
       "      <th>...</th>\n",
       "      <td>...</td>\n",
       "      <td>...</td>\n",
       "      <td>...</td>\n",
       "    </tr>\n",
       "    <tr>\n",
       "      <th>206</th>\n",
       "      <td>CVX - MA</td>\n",
       "      <td>0.051429</td>\n",
       "      <td>5.639670e-02</td>\n",
       "    </tr>\n",
       "    <tr>\n",
       "      <th>207</th>\n",
       "      <td>CVX - LLY</td>\n",
       "      <td>0.226395</td>\n",
       "      <td>1.830442e-17</td>\n",
       "    </tr>\n",
       "    <tr>\n",
       "      <th>208</th>\n",
       "      <td>CVX - HD</td>\n",
       "      <td>0.032643</td>\n",
       "      <td>2.260764e-01</td>\n",
       "    </tr>\n",
       "    <tr>\n",
       "      <th>209</th>\n",
       "      <td>CVX - PFE</td>\n",
       "      <td>0.514789</td>\n",
       "      <td>4.894830e-94</td>\n",
       "    </tr>\n",
       "    <tr>\n",
       "      <th>210</th>\n",
       "      <td>CVX - CVX</td>\n",
       "      <td>1.000000</td>\n",
       "      <td>0.000000e+00</td>\n",
       "    </tr>\n",
       "  </tbody>\n",
       "</table>\n",
       "<p>211 rows × 3 columns</p>\n",
       "</div>"
      ],
      "text/plain": [
       "      Comparison  Corr Coef         p-val\n",
       "0           None        NaN           NaN\n",
       "1    AAPL - AAPL   1.000000  0.000000e+00\n",
       "2    MSFT - AAPL   0.978530  0.000000e+00\n",
       "3    MSFT - MSFT   1.000000  0.000000e+00\n",
       "4    GOOG - AAPL   0.957089  0.000000e+00\n",
       "..           ...        ...           ...\n",
       "206     CVX - MA   0.051429  5.639670e-02\n",
       "207    CVX - LLY   0.226395  1.830442e-17\n",
       "208     CVX - HD   0.032643  2.260764e-01\n",
       "209    CVX - PFE   0.514789  4.894830e-94\n",
       "210    CVX - CVX   1.000000  0.000000e+00\n",
       "\n",
       "[211 rows x 3 columns]"
      ]
     },
     "execution_count": 19,
     "metadata": {},
     "output_type": "execute_result"
    }
   ],
   "source": [
    "df2 = pd.DataFrame(pc, columns=['Comparison','Corr Coef', 'p-val'])\n",
    " \n",
    "# print dataframe.\n",
    "df2"
   ]
  },
  {
   "cell_type": "code",
   "execution_count": null,
   "id": "9b224436",
   "metadata": {
    "cell_id": "1286ff3847fc4bac8b9ca3db4638aaba",
    "deepnote_cell_height": 347.933349609375,
    "deepnote_cell_type": "code",
    "deepnote_output_heights": [
     21,
     2
    ],
    "deepnote_to_be_reexecuted": false,
    "execution_millis": 621,
    "execution_start": 1656591166504,
    "source_hash": "611ea817",
    "tags": []
   },
   "outputs": [
    {
     "data": {
      "text/plain": [
       "Text(0, 0.5, 'Close Price in $')"
      ]
     },
     "execution_count": 20,
     "metadata": {},
     "output_type": "execute_result"
    },
    {
     "data": {
      "image/png": "[encoded data removed]",
      "text/plain": [
       "<Figure size 432x288 with 1 Axes>"
      ]
     },
     "metadata": {
      "image/png": {
       "height": 278,
       "width": 391
      },
      "needs_background": "light"
     },
     "output_type": "display_data"
    }
   ],
   "source": [
    "#index 42 \n",
    "#coe = 0.6619322661756248\n",
    "#p-val = 2.36161520187054e-174\n",
    "\n",
    "fig = plt.figure()\n",
    "plt.plot(df[\"META\"])\n",
    "plt.plot(df[\"BRKA\"])\n",
    "plt.yscale('log')\n",
    "#how do I input date? I got rid of it when proceccing data for heatmap\n",
    "plt.title(' META vs BRKA line graph ')\n",
    "plt.xlabel('Time')\n",
    "plt.ylabel('Close Price in $')"
   ]
  },
  {
   "cell_type": "code",
   "execution_count": null,
   "id": "e64d55a4",
   "metadata": {
    "cell_id": "cb43a9cc5e954282a33378e89bf01324",
    "deepnote_cell_height": 347.933349609375,
    "deepnote_cell_type": "code",
    "deepnote_output_heights": [
     21,
     2
    ],
    "deepnote_to_be_reexecuted": false,
    "execution_millis": 376,
    "execution_start": 1656591167059,
    "source_hash": "fb8a7477",
    "tags": []
   },
   "outputs": [
    {
     "data": {
      "text/plain": [
       "Text(0, 0.5, 'Close Price in $')"
      ]
     },
     "execution_count": 21,
     "metadata": {},
     "output_type": "execute_result"
    },
    {
     "data": {
      "image/png": "[encoded data removed]",
      "text/plain": [
       "<Figure size 432x288 with 1 Axes>"
      ]
     },
     "metadata": {
      "image/png": {
       "height": 278,
       "width": 391
      },
      "needs_background": "light"
     },
     "output_type": "display_data"
    }
   ],
   "source": [
    "#index 58\n",
    "#coe = 0.8368974002124\n",
    "#p-val = 0\n",
    "\n",
    "fig = plt.figure()\n",
    "plt.plot(df[\"V\"])\n",
    "plt.plot(df[\"GOOG\"])\n",
    "plt.yscale('log')\n",
    "#how do I input date? I got rid of it when proceccing data for heatmap\n",
    "plt.title(' V vs GOOG line graph ')\n",
    "plt.xlabel('Time')\n",
    "plt.ylabel('Close Price in $')"
   ]
  },
  {
   "cell_type": "code",
   "execution_count": null,
   "id": "f97482fc",
   "metadata": {
    "cell_id": "7900f38efe59424194d6260a4a487dea",
    "deepnote_cell_height": 347.933349609375,
    "deepnote_cell_type": "code",
    "deepnote_output_heights": [
     21,
     2
    ],
    "deepnote_to_be_reexecuted": false,
    "execution_millis": 385,
    "execution_start": 1656591167443,
    "source_hash": "b41b4818",
    "tags": []
   },
   "outputs": [
    {
     "data": {
      "text/plain": [
       "Text(0, 0.5, 'Close Price in $')"
      ]
     },
     "execution_count": 22,
     "metadata": {},
     "output_type": "execute_result"
    },
    {
     "data": {
      "image/png": "[encoded data removed]",
      "text/plain": [
       "<Figure size 432x288 with 1 Axes>"
      ]
     },
     "metadata": {
      "image/png": {
       "height": 278,
       "width": 408
      },
      "needs_background": "light"
     },
     "output_type": "display_data"
    }
   ],
   "source": [
    "#index 103\n",
    "#coe = 0.17000079742488758\n",
    "#p-val= 2.1683290548269557e-10\n",
    "\n",
    "fig = plt.figure()\n",
    "plt.plot(df[\"JPM\"])\n",
    "plt.plot(df[\"XOM\"])\n",
    "plt.yscale('log')\n",
    "#how do I input date? I got rid of it when proceccing data for heatmap\n",
    "plt.title(' JPM vs XOM line graph ')\n",
    "plt.xlabel('Time')\n",
    "plt.ylabel('Close Price in $')"
   ]
  },
  {
   "cell_type": "code",
   "execution_count": null,
   "id": "c78aec8d",
   "metadata": {
    "cell_id": "3e11c43b7964449299836b18ae148c24",
    "deepnote_cell_height": 347.933349609375,
    "deepnote_cell_type": "code",
    "deepnote_output_heights": [
     21,
     2
    ],
    "deepnote_to_be_reexecuted": false,
    "execution_millis": 313,
    "execution_start": 1656591167852,
    "source_hash": "45f2b6e9",
    "tags": []
   },
   "outputs": [
    {
     "data": {
      "text/plain": [
       "Text(0, 0.5, 'Close Price in $')"
      ]
     },
     "execution_count": 23,
     "metadata": {},
     "output_type": "execute_result"
    },
    {
     "data": {
      "image/png": "[encoded data removed]",
      "text/plain": [
       "<Figure size 432x288 with 1 Axes>"
      ]
     },
     "metadata": {
      "image/png": {
       "height": 278,
       "width": 408
      },
      "needs_background": "light"
     },
     "output_type": "display_data"
    }
   ],
   "source": [
    "#index 103\n",
    "#coe = 0.17000079742488758\n",
    "#p-val= 2.1683290548269557e-10\n",
    "\n",
    "fig = plt.figure()\n",
    "plt.plot(df[\"CVX\"])\n",
    "plt.plot(df[\"PG\"])\n",
    "plt.yscale('log')\n",
    "#how do I input date? I got rid of it when proceccing data for heatmap\n",
    "plt.title(' CVX vs PG line graph ')\n",
    "plt.xlabel('Time')\n",
    "plt.ylabel('Close Price in $')"
   ]
  }
 ],
 "metadata": {
  "kernelspec": {
   "display_name": "Python 3 (ipykernel)",
   "language": "python",
   "name": "python3"
  },
  "language_info": {
   "codemirror_mode": {
    "name": "ipython",
    "version": 3
   },
   "file_extension": ".py",
   "mimetype": "text/x-python",
   "name": "python",
   "nbconvert_exporter": "python",
   "pygments_lexer": "ipython3",
   "version": "3.9.7"
  }
 },
 "nbformat": 4,
 "nbformat_minor": 5
}
